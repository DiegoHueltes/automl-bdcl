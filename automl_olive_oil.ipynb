{
  "nbformat": 4,
  "nbformat_minor": 0,
  "metadata": {
    "colab": {
      "name": "automl_olive_oil.ipynb",
      "version": "0.3.2",
      "provenance": [],
      "collapsed_sections": []
    },
    "kernelspec": {
      "display_name": "Python 3",
      "language": "python",
      "name": "python3"
    },
    "accelerator": "GPU"
  },
  "cells": [
    {
      "metadata": {
        "id": "klh-wwnAO9XW",
        "colab_type": "text"
      },
      "cell_type": "markdown",
      "source": [
        "This notebook is thought to be executed in Google colab, but ignoring this first cell can be executed in any jupyter environment."
      ]
    },
    {
      "metadata": {
        "id": "dhgAeskMs6Mo",
        "colab_type": "code",
        "outputId": "efbc3da5-8997-4b55-8870-8b5e13ddd96c",
        "colab": {
          "base_uri": "https://localhost:8080/",
          "height": 6888
        }
      },
      "cell_type": "code",
      "source": [
        "!pip install -U -q PyDrive\n",
        "!apt-get install -y libhdf5-serial-dev\n",
        "!apt-get install -y build-essential swig\n",
        "!pip install tables\n",
        "!pip install deap update_checker tqdm stopit\n",
        "!pip install xgboost\n",
        "!pip install tpot\n",
        "!curl https://raw.githubusercontent.com/automl/auto-sklearn/master/requirements.txt | xargs -n 1 -L 1 pip install\n",
        "!pip install auto-sklearn\n",
        "\n",
        "!pip install requests\n",
        "!pip install tabulate\n",
        "!pip install \"colorama>=0.3.8\"\n",
        "!pip install future\n",
        "!pip install autokeras\n",
        "\n",
        "!apt-get install -y openjdk-8-jdk-headless -qq > /dev/null      #install openjdk\n",
        "import os\n",
        "os.environ[\"JAVA_HOME\"] = \"/usr/lib/jvm/java-8-openjdk-amd64\"\n",
        "!pip install -f http://h2o-release.s3.amazonaws.com/h2o/latest_stable_Py.html h2o\n",
        "\n",
        "\n",
        "from pydrive.auth import GoogleAuth\n",
        "from pydrive.drive import GoogleDrive\n",
        "from google.colab import auth\n",
        "from oauth2client.client import GoogleCredentials\n",
        "import os\n",
        "\n",
        "# 1. Authenticate and create the PyDrive client.\n",
        "auth.authenticate_user()\n",
        "gauth = GoogleAuth()\n",
        "gauth.credentials = GoogleCredentials. get_application_default()\n",
        "drive = GoogleDrive(gauth)\n",
        "\n",
        "local_download_path = os.path.expanduser('~/data')\n",
        "try:\n",
        "  os.makedirs(local_download_path)\n",
        "except: pass\n",
        "\n",
        "\n",
        "file_list = drive.ListFile(\n",
        "    {'q': \"'your_drive_folder_id_here' in parents\"}).GetList()\n",
        "\n",
        "for f in file_list:\n",
        "  print('title: %s, id: %s' % (f['title'], f['id']))\n",
        "  fname = os.path.join(local_download_path, f['title'])\n",
        "  print('downloading to {}'.format(fname))\n",
        "  f_ = drive.CreateFile({'id': f['id']})\n",
        "  f_.GetContentFile(fname)\n"
      ],
      "execution_count": 2,
      "outputs": [
        {
          "output_type": "stream",
          "text": [
            "Reading package lists... Done\n",
            "Building dependency tree       \n",
            "Reading state information... Done\n",
            "The following NEW packages will be installed:\n",
            "  libhdf5-serial-dev\n",
            "0 upgraded, 1 newly installed, 0 to remove and 12 not upgraded.\n",
            "Need to get 2,898 B of archives.\n",
            "After this operation, 37.9 kB of additional disk space will be used.\n",
            "Get:1 http://archive.ubuntu.com/ubuntu bionic/universe amd64 libhdf5-serial-dev all 1.10.0-patch1+docs-4 [2,898 B]\n",
            "Fetched 2,898 B in 0s (9,578 B/s)\n",
            "Selecting previously unselected package libhdf5-serial-dev.\n",
            "(Reading database ... 22278 files and directories currently installed.)\n",
            "Preparing to unpack .../libhdf5-serial-dev_1.10.0-patch1+docs-4_all.deb ...\n",
            "Unpacking libhdf5-serial-dev (1.10.0-patch1+docs-4) ...\n",
            "Setting up libhdf5-serial-dev (1.10.0-patch1+docs-4) ...\n",
            "Reading package lists... Done\n",
            "Building dependency tree       \n",
            "Reading state information... Done\n",
            "build-essential is already the newest version (12.4ubuntu1).\n",
            "Suggested packages:\n",
            "  swig-doc swig-examples swig3.0-examples swig3.0-doc\n",
            "The following NEW packages will be installed:\n",
            "  swig swig3.0\n",
            "0 upgraded, 2 newly installed, 0 to remove and 12 not upgraded.\n",
            "Need to get 1,100 kB of archives.\n",
            "After this operation, 5,822 kB of additional disk space will be used.\n",
            "Get:1 http://archive.ubuntu.com/ubuntu bionic/universe amd64 swig3.0 amd64 3.0.12-1 [1,094 kB]\n",
            "Get:2 http://archive.ubuntu.com/ubuntu bionic/universe amd64 swig amd64 3.0.12-1 [6,460 B]\n",
            "Fetched 1,100 kB in 1s (818 kB/s)\n",
            "Selecting previously unselected package swig3.0.\n",
            "(Reading database ... 22282 files and directories currently installed.)\n",
            "Preparing to unpack .../swig3.0_3.0.12-1_amd64.deb ...\n",
            "Unpacking swig3.0 (3.0.12-1) ...\n",
            "Selecting previously unselected package swig.\n",
            "Preparing to unpack .../swig_3.0.12-1_amd64.deb ...\n",
            "Unpacking swig (3.0.12-1) ...\n",
            "Setting up swig3.0 (3.0.12-1) ...\n",
            "Setting up swig (3.0.12-1) ...\n",
            "Collecting tables\n",
            "\u001b[?25l  Downloading https://files.pythonhosted.org/packages/d7/1b/21f4c7f296b718575c17ef25e61c05742a283c45077b4c8d5a190b3e0b59/tables-3.4.4-cp36-cp36m-manylinux1_x86_64.whl (3.8MB)\n",
            "\u001b[K    100% |████████████████████████████████| 3.8MB 9.6MB/s \n",
            "\u001b[?25hRequirement already satisfied: numpy>=1.8.0 in /usr/local/lib/python3.6/dist-packages (from tables) (1.14.6)\n",
            "Collecting numexpr>=2.5.2 (from tables)\n",
            "\u001b[?25l  Downloading https://files.pythonhosted.org/packages/db/ea/efd9e16283637eb5b6c0042b6cc3521f1b9a5b47767ac463c88bbd37670c/numexpr-2.6.8-cp36-cp36m-manylinux1_x86_64.whl (162kB)\n",
            "\u001b[K    100% |████████████████████████████████| 163kB 27.2MB/s \n",
            "\u001b[?25hRequirement already satisfied: six>=1.9.0 in /usr/local/lib/python3.6/dist-packages (from tables) (1.11.0)\n",
            "Installing collected packages: numexpr, tables\n",
            "Successfully installed numexpr-2.6.8 tables-3.4.4\n",
            "Collecting deap\n",
            "\u001b[?25l  Downloading https://files.pythonhosted.org/packages/af/29/e7f2ecbe02997b16a768baed076f5fc4781d7057cd5d9adf7c94027845ba/deap-1.2.2.tar.gz (936kB)\n",
            "\u001b[K    100% |████████████████████████████████| 942kB 9.9MB/s \n",
            "\u001b[?25hCollecting update_checker\n",
            "  Downloading https://files.pythonhosted.org/packages/17/c9/ab11855af164d03be0ff4fddd4c46a5bd44799a9ecc1770e01a669c21168/update_checker-0.16-py2.py3-none-any.whl\n",
            "Requirement already satisfied: tqdm in /usr/local/lib/python3.6/dist-packages (4.27.0)\n",
            "Collecting stopit\n",
            "  Downloading https://files.pythonhosted.org/packages/35/58/e8bb0b0fb05baf07bbac1450c447d753da65f9701f551dca79823ce15d50/stopit-1.1.2.tar.gz\n",
            "Requirement already satisfied: requests>=2.3.0 in /usr/local/lib/python3.6/dist-packages (from update_checker) (2.18.4)\n",
            "Requirement already satisfied: chardet<3.1.0,>=3.0.2 in /usr/local/lib/python3.6/dist-packages (from requests>=2.3.0->update_checker) (3.0.4)\n",
            "Requirement already satisfied: idna<2.7,>=2.5 in /usr/local/lib/python3.6/dist-packages (from requests>=2.3.0->update_checker) (2.6)\n",
            "Requirement already satisfied: certifi>=2017.4.17 in /usr/local/lib/python3.6/dist-packages (from requests>=2.3.0->update_checker) (2018.10.15)\n",
            "Requirement already satisfied: urllib3<1.23,>=1.21.1 in /usr/local/lib/python3.6/dist-packages (from requests>=2.3.0->update_checker) (1.22)\n",
            "Building wheels for collected packages: deap, stopit\n",
            "  Running setup.py bdist_wheel for deap ... \u001b[?25l-\b \b\\\b \b|\b \b/\b \b-\b \b\\\b \b|\b \bdone\n",
            "\u001b[?25h  Stored in directory: /root/.cache/pip/wheels/22/ea/bf/dc7c8a2262025a0ab5da9ef02282c198be88902791ca0c6658\n",
            "  Running setup.py bdist_wheel for stopit ... \u001b[?25l-\b \bdone\n",
            "\u001b[?25h  Stored in directory: /root/.cache/pip/wheels/3c/85/2b/2580190404636bfc63e8de3dff629c03bb795021e1983a6cc7\n",
            "Successfully built deap stopit\n",
            "Installing collected packages: deap, update-checker, stopit\n",
            "Successfully installed deap-1.2.2 stopit-1.1.2 update-checker-0.16\n",
            "Requirement already satisfied: xgboost in /usr/local/lib/python3.6/dist-packages (0.7.post4)\n",
            "Requirement already satisfied: numpy in /usr/local/lib/python3.6/dist-packages (from xgboost) (1.14.6)\n",
            "Requirement already satisfied: scipy in /usr/local/lib/python3.6/dist-packages (from xgboost) (0.19.1)\n",
            "Collecting tpot\n",
            "\u001b[?25l  Downloading https://files.pythonhosted.org/packages/c5/6c/f1806e5b31d65a195bcd94fd80079318d5a9e54c2239b395404c25496792/TPOT-0.9.5.tar.gz (891kB)\n",
            "\u001b[K    100% |████████████████████████████████| 901kB 9.1MB/s \n",
            "\u001b[?25hRequirement already satisfied: numpy>=1.12.1 in /usr/local/lib/python3.6/dist-packages (from tpot) (1.14.6)\n",
            "Requirement already satisfied: scipy>=0.19.0 in /usr/local/lib/python3.6/dist-packages (from tpot) (0.19.1)\n",
            "Requirement already satisfied: scikit-learn>=0.18.1 in /usr/local/lib/python3.6/dist-packages (from tpot) (0.19.2)\n",
            "Requirement already satisfied: deap>=1.0 in /usr/local/lib/python3.6/dist-packages (from tpot) (1.2.2)\n",
            "Requirement already satisfied: update_checker>=0.16 in /usr/local/lib/python3.6/dist-packages (from tpot) (0.16)\n",
            "Requirement already satisfied: tqdm>=4.11.2 in /usr/local/lib/python3.6/dist-packages (from tpot) (4.27.0)\n",
            "Requirement already satisfied: stopit>=1.1.1 in /usr/local/lib/python3.6/dist-packages (from tpot) (1.1.2)\n",
            "Requirement already satisfied: pandas>=0.20.2 in /usr/local/lib/python3.6/dist-packages (from tpot) (0.22.0)\n",
            "Requirement already satisfied: requests>=2.3.0 in /usr/local/lib/python3.6/dist-packages (from update_checker>=0.16->tpot) (2.18.4)\n",
            "Requirement already satisfied: pytz>=2011k in /usr/local/lib/python3.6/dist-packages (from pandas>=0.20.2->tpot) (2018.5)\n",
            "Requirement already satisfied: python-dateutil>=2 in /usr/local/lib/python3.6/dist-packages (from pandas>=0.20.2->tpot) (2.5.3)\n",
            "Requirement already satisfied: chardet<3.1.0,>=3.0.2 in /usr/local/lib/python3.6/dist-packages (from requests>=2.3.0->update_checker>=0.16->tpot) (3.0.4)\n",
            "Requirement already satisfied: idna<2.7,>=2.5 in /usr/local/lib/python3.6/dist-packages (from requests>=2.3.0->update_checker>=0.16->tpot) (2.6)\n",
            "Requirement already satisfied: certifi>=2017.4.17 in /usr/local/lib/python3.6/dist-packages (from requests>=2.3.0->update_checker>=0.16->tpot) (2018.10.15)\n",
            "Requirement already satisfied: urllib3<1.23,>=1.21.1 in /usr/local/lib/python3.6/dist-packages (from requests>=2.3.0->update_checker>=0.16->tpot) (1.22)\n",
            "Requirement already satisfied: six>=1.5 in /usr/local/lib/python3.6/dist-packages (from python-dateutil>=2->pandas>=0.20.2->tpot) (1.11.0)\n",
            "Building wheels for collected packages: tpot\n",
            "  Running setup.py bdist_wheel for tpot ... \u001b[?25l-\b \b\\\b \bdone\n",
            "\u001b[?25h  Stored in directory: /root/.cache/pip/wheels/97/86/27/698a1366f854d2344fd0f7ee9ef57c8044ec02f182c8a0431e\n",
            "Successfully built tpot\n",
            "Installing collected packages: tpot\n",
            "Successfully installed tpot-0.9.5\n",
            "  % Total    % Received % Xferd  Average Speed   Time    Time     Time  Current\n",
            "                                 Dload  Upload   Total   Spent    Left  Speed\n",
            "100   209  100   209    0     0   1094      0 --:--:-- --:--:-- --:--:--  1094\n",
            "Requirement already satisfied: setuptools in /usr/local/lib/python3.6/dist-packages (40.4.3)\n",
            "Collecting nose\n",
            "\u001b[?25l  Downloading https://files.pythonhosted.org/packages/15/d8/dd071918c040f50fa1cf80da16423af51ff8ce4a0f2399b7bf8de45ac3d9/nose-1.3.7-py3-none-any.whl (154kB)\n",
            "\u001b[K    100% |████████████████████████████████| 163kB 7.1MB/s \n",
            "\u001b[?25hInstalling collected packages: nose\n",
            "Successfully installed nose-1.3.7\n",
            "Requirement already satisfied: six in /usr/local/lib/python3.6/dist-packages (1.11.0)\n",
            "Collecting Cython\n",
            "\u001b[?25l  Downloading https://files.pythonhosted.org/packages/64/3f/cac281f3f019b825bbc03fa8cb7eb03d9c355f4aa9eef978279a4966cb21/Cython-0.29-cp36-cp36m-manylinux1_x86_64.whl (2.1MB)\n",
            "\u001b[K    100% |████████████████████████████████| 2.1MB 9.9MB/s \n",
            "\u001b[?25hInstalling collected packages: Cython\n",
            "Successfully installed Cython-0.29\n",
            "Requirement already satisfied: numpy>=1.9.0 in /usr/local/lib/python3.6/dist-packages (1.14.6)\n",
            "Requirement already satisfied: scipy>=0.14.1 in /usr/local/lib/python3.6/dist-packages (0.19.1)\n",
            "Requirement already satisfied: numpy>=1.8.2 in /usr/local/lib/python3.6/dist-packages (from scipy>=0.14.1) (1.14.6)\n",
            "Requirement already satisfied: scikit-learn<0.20,>=0.19 in /usr/local/lib/python3.6/dist-packages (0.19.2)\n",
            "Collecting xgboost==0.7.post3\n",
            "\u001b[?25l  Downloading https://files.pythonhosted.org/packages/cb/1c/a2ec1798d444e2b86b27fdbf18d9ab08c25c3d374de77429b55a76f42404/xgboost-0.7.post3.tar.gz (450kB)\n",
            "\u001b[K    100% |████████████████████████████████| 460kB 8.4MB/s \n",
            "\u001b[?25hRequirement already satisfied: numpy in /usr/local/lib/python3.6/dist-packages (from xgboost==0.7.post3) (1.14.6)\n",
            "Requirement already satisfied: scipy in /usr/local/lib/python3.6/dist-packages (from xgboost==0.7.post3) (0.19.1)\n",
            "Building wheels for collected packages: xgboost\n",
            "  Running setup.py bdist_wheel for xgboost ... \u001b[?25l-\b \b\\\b \b|\b \b/\b \b-\b \b\\\b \bdone\n",
            "\u001b[?25h  Stored in directory: /root/.cache/pip/wheels/94/02/70/61da39c3c6e67d052eb5c618c2b5188adcd6ab0128025f1323\n",
            "Successfully built xgboost\n",
            "Installing collected packages: xgboost\n",
            "  Found existing installation: xgboost 0.7.post4\n",
            "    Uninstalling xgboost-0.7.post4:\n",
            "      Successfully uninstalled xgboost-0.7.post4\n",
            "Successfully installed xgboost-0.7.post3\n",
            "Collecting lockfile\n",
            "  Downloading https://files.pythonhosted.org/packages/c8/22/9460e311f340cb62d26a38c419b1381b8593b0bb6b5d1f056938b086d362/lockfile-0.12.2-py2.py3-none-any.whl\n",
            "Installing collected packages: lockfile\n",
            "Successfully installed lockfile-0.12.2\n",
            "Requirement already satisfied: joblib in /usr/local/lib/python3.6/dist-packages (0.12.5)\n",
            "Requirement already satisfied: psutil in /usr/local/lib/python3.6/dist-packages (5.4.7)\n",
            "Requirement already satisfied: pyyaml in /usr/local/lib/python3.6/dist-packages (3.13)\n",
            "Collecting liac-arff\n",
            "  Downloading https://files.pythonhosted.org/packages/c9/c3/6966861e2f4d302ac3a36821f7ac503b57d98cb9cc3b28e9cd8ef8b7df65/liac-arff-2.3.1.tar.gz\n",
            "Building wheels for collected packages: liac-arff\n",
            "  Running setup.py bdist_wheel for liac-arff ... \u001b[?25l-\b \bdone\n",
            "\u001b[?25h  Stored in directory: /root/.cache/pip/wheels/81/f0/15/97687f0a23a6859a7ced7e09271d321930c6641c2675d04745\n",
            "Successfully built liac-arff\n",
            "Installing collected packages: liac-arff\n",
            "Successfully installed liac-arff-2.3.1\n",
            "Requirement already satisfied: pandas in /usr/local/lib/python3.6/dist-packages (0.22.0)\n",
            "Requirement already satisfied: pytz>=2011k in /usr/local/lib/python3.6/dist-packages (from pandas) (2018.5)\n",
            "Requirement already satisfied: python-dateutil>=2 in /usr/local/lib/python3.6/dist-packages (from pandas) (2.5.3)\n",
            "Requirement already satisfied: numpy>=1.9.0 in /usr/local/lib/python3.6/dist-packages (from pandas) (1.14.6)\n",
            "Requirement already satisfied: six>=1.5 in /usr/local/lib/python3.6/dist-packages (from python-dateutil>=2->pandas) (1.11.0)\n",
            "Collecting ConfigSpace<0.5,>=0.4.0\n",
            "\u001b[?25l  Downloading https://files.pythonhosted.org/packages/40/53/e54835d444153ba461fe8aec28533a1ffc3c5531b89509c8029b6b57a7e7/ConfigSpace-0.4.7.tar.gz (913kB)\n",
            "\u001b[K    100% |████████████████████████████████| 921kB 9.9MB/s \n",
            "\u001b[?25hRequirement already satisfied: numpy in /usr/local/lib/python3.6/dist-packages (from ConfigSpace<0.5,>=0.4.0) (1.14.6)\n",
            "Requirement already satisfied: pyparsing in /usr/local/lib/python3.6/dist-packages (from ConfigSpace<0.5,>=0.4.0) (2.2.2)\n",
            "Requirement already satisfied: typing in /usr/local/lib/python3.6/dist-packages (from ConfigSpace<0.5,>=0.4.0) (3.6.6)\n",
            "Requirement already satisfied: Cython in /usr/local/lib/python3.6/dist-packages (from ConfigSpace<0.5,>=0.4.0) (0.29)\n",
            "Building wheels for collected packages: ConfigSpace\n",
            "  Running setup.py bdist_wheel for ConfigSpace ... \u001b[?25l-\b \b\\\b \b|\b \b/\b \b-\b \b\\\b \b|\b \b/\b \b-\b \b\\\b \b|\b \b/\b \b-\b \b\\\b \b|\b \bdone\n",
            "\u001b[?25h  Stored in directory: /root/.cache/pip/wheels/fb/05/bc/ace7b3602c315c402176a9280296a59275aa826476517faa24\n",
            "Successfully built ConfigSpace\n",
            "Installing collected packages: ConfigSpace\n",
            "Successfully installed ConfigSpace-0.4.7\n",
            "Collecting pynisher>=0.4\n",
            "  Downloading https://files.pythonhosted.org/packages/b2/21/c86c64c305da6d43fb89780d33cbc839c07736b71955a8bdb642a02b7538/pynisher-0.5.0.tar.gz\n",
            "Collecting docutils>=0.3 (from pynisher>=0.4)\n",
            "\u001b[?25l  Downloading https://files.pythonhosted.org/packages/36/fa/08e9e6e0e3cbd1d362c3bbee8d01d0aedb2155c4ac112b19ef3cae8eed8d/docutils-0.14-py3-none-any.whl (543kB)\n",
            "\u001b[K    100% |████████████████████████████████| 552kB 8.1MB/s \n",
            "\u001b[?25hRequirement already satisfied: setuptools in /usr/local/lib/python3.6/dist-packages (from pynisher>=0.4) (40.4.3)\n",
            "Requirement already satisfied: psutil in /usr/local/lib/python3.6/dist-packages (from pynisher>=0.4) (5.4.7)\n",
            "Building wheels for collected packages: pynisher\n",
            "  Running setup.py bdist_wheel for pynisher ... \u001b[?25l-\b \bdone\n",
            "\u001b[?25h  Stored in directory: /root/.cache/pip/wheels/af/2a/c4/ec3abc8a2f786ef9786ea8fe6ff629a4e54812a3f98cc41b47\n",
            "Successfully built pynisher\n",
            "Installing collected packages: docutils, pynisher\n",
            "Successfully installed docutils-0.14 pynisher-0.5.0\n",
            "Collecting pyrfr<0.8,>=0.7\n",
            "\u001b[?25l  Downloading https://files.pythonhosted.org/packages/c3/c6/c555cfa3c7d0078dded091d4901ed52344bbb925077aa70b871faf35fd58/pyrfr-0.7.4.tar.gz (291kB)\n",
            "\u001b[K    100% |████████████████████████████████| 296kB 7.6MB/s \n",
            "\u001b[?25hBuilding wheels for collected packages: pyrfr\n",
            "  Running setup.py bdist_wheel for pyrfr ... \u001b[?25l-\b \b\\\b \b|\b \b/\b \b-\b \b\\\b \b|\b \b/\b \bdone\n",
            "\u001b[?25h  Stored in directory: /root/.cache/pip/wheels/fb/98/fd/b1d53cab6d5ed836980777d9733d7e549d82a727650eed6f6d\n",
            "Successfully built pyrfr\n",
            "Installing collected packages: pyrfr\n",
            "Successfully installed pyrfr-0.7.4\n",
            "Collecting smac\n",
            "\u001b[?25l  Downloading https://files.pythonhosted.org/packages/33/ab/2b0a6fb00bd76e2415a04dcca453ad0b0db9b4218b02401306ff2bc6135d/smac-0.8.0.tar.gz (94kB)\n",
            "\u001b[K    100% |████████████████████████████████| 102kB 4.7MB/s \n",
            "\u001b[?25hRequirement already satisfied: setuptools in /usr/local/lib/python3.6/dist-packages (from smac) (40.4.3)\n",
            "Requirement already satisfied: cython in /usr/local/lib/python3.6/dist-packages (from smac) (0.29)\n",
            "Requirement already satisfied: numpy>=1.7.1 in /usr/local/lib/python3.6/dist-packages (from smac) (1.14.6)\n",
            "Requirement already satisfied: scipy>=0.18.1 in /usr/local/lib/python3.6/dist-packages (from smac) (0.19.1)\n",
            "Requirement already satisfied: six in /usr/local/lib/python3.6/dist-packages (from smac) (1.11.0)\n",
            "Requirement already satisfied: psutil in /usr/local/lib/python3.6/dist-packages (from smac) (5.4.7)\n",
            "Requirement already satisfied: pynisher>=0.4.1 in /usr/local/lib/python3.6/dist-packages (from smac) (0.5.0)\n",
            "Requirement already satisfied: ConfigSpace<0.5,>=0.4.3 in /usr/local/lib/python3.6/dist-packages (from smac) (0.4.7)\n",
            "Requirement already satisfied: scikit-learn>=0.18.0 in /usr/local/lib/python3.6/dist-packages (from smac) (0.19.2)\n",
            "Requirement already satisfied: typing in /usr/local/lib/python3.6/dist-packages (from smac) (3.6.6)\n",
            "Requirement already satisfied: pyrfr>=0.5.0 in /usr/local/lib/python3.6/dist-packages (from smac) (0.7.4)\n",
            "Collecting sphinx (from smac)\n",
            "\u001b[?25l  Downloading https://files.pythonhosted.org/packages/35/e0/e9e83b244eaa382ba21896dda6172617e47aff0be225eb72782cca105d3c/Sphinx-1.8.1-py2.py3-none-any.whl (3.1MB)\n",
            "\u001b[K    100% |████████████████████████████████| 3.1MB 9.5MB/s \n",
            "\u001b[?25hCollecting sphinx_rtd_theme (from smac)\n",
            "\u001b[?25l  Downloading https://files.pythonhosted.org/packages/ef/0c/e4a462190506bc4bff6ca8cf93da07b2d13e540466d2e8a760352d0c69b0/sphinx_rtd_theme-0.4.2-py2.py3-none-any.whl (6.4MB)\n",
            "\u001b[K    100% |████████████████████████████████| 6.4MB 5.5MB/s \n",
            "\u001b[?25hRequirement already satisfied: joblib in /usr/local/lib/python3.6/dist-packages (from smac) (0.12.5)\n",
            "Requirement already satisfied: docutils>=0.3 in /usr/local/lib/python3.6/dist-packages (from pynisher>=0.4.1->smac) (0.14)\n",
            "Requirement already satisfied: pyparsing in /usr/local/lib/python3.6/dist-packages (from ConfigSpace<0.5,>=0.4.3->smac) (2.2.2)\n",
            "Collecting alabaster<0.8,>=0.7 (from sphinx->smac)\n",
            "  Downloading https://files.pythonhosted.org/packages/10/ad/00b090d23a222943eb0eda509720a404f531a439e803f6538f35136cae9e/alabaster-0.7.12-py2.py3-none-any.whl\n",
            "Requirement already satisfied: requests>=2.0.0 in /usr/local/lib/python3.6/dist-packages (from sphinx->smac) (2.18.4)\n",
            "Collecting snowballstemmer>=1.1 (from sphinx->smac)\n",
            "\u001b[?25l  Downloading https://files.pythonhosted.org/packages/d4/6c/8a935e2c7b54a37714656d753e4187ee0631988184ed50c0cf6476858566/snowballstemmer-1.2.1-py2.py3-none-any.whl (64kB)\n",
            "\u001b[K    100% |████████████████████████████████| 71kB 28.0MB/s \n",
            "\u001b[?25hCollecting sphinxcontrib-websupport (from sphinx->smac)\n",
            "  Downloading https://files.pythonhosted.org/packages/52/69/3c2fbdc3702358c5b34ee25e387b24838597ef099761fc9a42c166796e8f/sphinxcontrib_websupport-1.1.0-py2.py3-none-any.whl\n",
            "Collecting babel!=2.0,>=1.3 (from sphinx->smac)\n",
            "\u001b[?25l  Downloading https://files.pythonhosted.org/packages/b8/ad/c6f60602d3ee3d92fbed87675b6fb6a6f9a38c223343ababdb44ba201f10/Babel-2.6.0-py2.py3-none-any.whl (8.1MB)\n",
            "\u001b[K    100% |████████████████████████████████| 8.1MB 5.5MB/s \n",
            "\u001b[?25hCollecting imagesize (from sphinx->smac)\n",
            "  Downloading https://files.pythonhosted.org/packages/fc/b6/aef66b4c52a6ad6ac18cf6ebc5731ed06d8c9ae4d3b2d9951f261150be67/imagesize-1.1.0-py2.py3-none-any.whl\n",
            "Requirement already satisfied: Jinja2>=2.3 in /usr/local/lib/python3.6/dist-packages (from sphinx->smac) (2.10)\n",
            "Collecting packaging (from sphinx->smac)\n",
            "  Downloading https://files.pythonhosted.org/packages/89/d1/92e6df2e503a69df9faab187c684585f0136662c12bb1f36901d426f3fab/packaging-18.0-py2.py3-none-any.whl\n",
            "Requirement already satisfied: Pygments>=2.0 in /usr/local/lib/python3.6/dist-packages (from sphinx->smac) (2.1.3)\n",
            "Requirement already satisfied: idna<2.7,>=2.5 in /usr/local/lib/python3.6/dist-packages (from requests>=2.0.0->sphinx->smac) (2.6)\n",
            "Requirement already satisfied: certifi>=2017.4.17 in /usr/local/lib/python3.6/dist-packages (from requests>=2.0.0->sphinx->smac) (2018.10.15)\n",
            "Requirement already satisfied: chardet<3.1.0,>=3.0.2 in /usr/local/lib/python3.6/dist-packages (from requests>=2.0.0->sphinx->smac) (3.0.4)\n",
            "Requirement already satisfied: urllib3<1.23,>=1.21.1 in /usr/local/lib/python3.6/dist-packages (from requests>=2.0.0->sphinx->smac) (1.22)\n",
            "Requirement already satisfied: pytz>=0a in /usr/local/lib/python3.6/dist-packages (from babel!=2.0,>=1.3->sphinx->smac) (2018.5)\n",
            "Requirement already satisfied: MarkupSafe>=0.23 in /usr/local/lib/python3.6/dist-packages (from Jinja2>=2.3->sphinx->smac) (1.0)\n",
            "Building wheels for collected packages: smac\n",
            "  Running setup.py bdist_wheel for smac ... \u001b[?25l-\b \b\\\b \bdone\n",
            "\u001b[?25h  Stored in directory: /root/.cache/pip/wheels/12/52/83/d2d66a840968025d072ddb1cd776fdc5eb5e337e1cc887bc3f\n",
            "Successfully built smac\n",
            "Installing collected packages: alabaster, snowballstemmer, sphinxcontrib-websupport, babel, imagesize, packaging, sphinx, sphinx-rtd-theme, smac\n",
            "Successfully installed alabaster-0.7.12 babel-2.6.0 imagesize-1.1.0 packaging-18.0 smac-0.8.0 snowballstemmer-1.2.1 sphinx-1.8.1 sphinx-rtd-theme-0.4.2 sphinxcontrib-websupport-1.1.0\n",
            "Collecting auto-sklearn\n",
            "\u001b[?25l  Downloading https://files.pythonhosted.org/packages/0a/a6/cbbff9205cb7dc71d67a6c05ecdd5aa05856bc1638360238d25a4a01d670/auto-sklearn-0.4.0.tar.gz (3.4MB)\n",
            "\u001b[K    100% |████████████████████████████████| 3.4MB 8.8MB/s \n",
            "\u001b[?25hRequirement already satisfied: setuptools in /usr/local/lib/python3.6/dist-packages (from auto-sklearn) (40.4.3)\n",
            "Requirement already satisfied: nose in /usr/local/lib/python3.6/dist-packages (from auto-sklearn) (1.3.7)\n",
            "Requirement already satisfied: six in /usr/local/lib/python3.6/dist-packages (from auto-sklearn) (1.11.0)\n",
            "Requirement already satisfied: Cython in /usr/local/lib/python3.6/dist-packages (from auto-sklearn) (0.29)\n",
            "Requirement already satisfied: numpy>=1.9.0 in /usr/local/lib/python3.6/dist-packages (from auto-sklearn) (1.14.6)\n",
            "Requirement already satisfied: scipy>=0.14.1 in /usr/local/lib/python3.6/dist-packages (from auto-sklearn) (0.19.1)\n",
            "Requirement already satisfied: scikit-learn<0.20,>=0.19 in /usr/local/lib/python3.6/dist-packages (from auto-sklearn) (0.19.2)\n",
            "Requirement already satisfied: lockfile in /usr/local/lib/python3.6/dist-packages (from auto-sklearn) (0.12.2)\n",
            "Requirement already satisfied: joblib in /usr/local/lib/python3.6/dist-packages (from auto-sklearn) (0.12.5)\n",
            "Requirement already satisfied: psutil in /usr/local/lib/python3.6/dist-packages (from auto-sklearn) (5.4.7)\n",
            "Requirement already satisfied: pyyaml in /usr/local/lib/python3.6/dist-packages (from auto-sklearn) (3.13)\n",
            "Requirement already satisfied: liac-arff in /usr/local/lib/python3.6/dist-packages (from auto-sklearn) (2.3.1)\n",
            "Requirement already satisfied: pandas in /usr/local/lib/python3.6/dist-packages (from auto-sklearn) (0.22.0)\n",
            "Requirement already satisfied: ConfigSpace<0.5,>=0.4.0 in /usr/local/lib/python3.6/dist-packages (from auto-sklearn) (0.4.7)\n",
            "Collecting pynisher<0.5,>=0.4 (from auto-sklearn)\n",
            "  Downloading https://files.pythonhosted.org/packages/d2/cd/4e0469a55fd280df177af2d5e94d72541d3bb0115280e31a23c8922987e6/pynisher-0.4.2.tar.gz\n",
            "Requirement already satisfied: pyrfr<0.8,>=0.6.1 in /usr/local/lib/python3.6/dist-packages (from auto-sklearn) (0.7.4)\n",
            "Requirement already satisfied: smac<0.9,>=0.8 in /usr/local/lib/python3.6/dist-packages (from auto-sklearn) (0.8.0)\n",
            "Requirement already satisfied: xgboost==0.7.post3 in /usr/local/lib/python3.6/dist-packages (from auto-sklearn) (0.7.post3)\n",
            "Requirement already satisfied: pytz>=2011k in /usr/local/lib/python3.6/dist-packages (from pandas->auto-sklearn) (2018.5)\n",
            "Requirement already satisfied: python-dateutil>=2 in /usr/local/lib/python3.6/dist-packages (from pandas->auto-sklearn) (2.5.3)\n",
            "Requirement already satisfied: typing in /usr/local/lib/python3.6/dist-packages (from ConfigSpace<0.5,>=0.4.0->auto-sklearn) (3.6.6)\n",
            "Requirement already satisfied: pyparsing in /usr/local/lib/python3.6/dist-packages (from ConfigSpace<0.5,>=0.4.0->auto-sklearn) (2.2.2)\n",
            "Requirement already satisfied: docutils>=0.3 in /usr/local/lib/python3.6/dist-packages (from pynisher<0.5,>=0.4->auto-sklearn) (0.14)\n",
            "Requirement already satisfied: sphinx in /usr/local/lib/python3.6/dist-packages (from smac<0.9,>=0.8->auto-sklearn) (1.8.1)\n",
            "Requirement already satisfied: sphinx-rtd-theme in /usr/local/lib/python3.6/dist-packages (from smac<0.9,>=0.8->auto-sklearn) (0.4.2)\n",
            "Requirement already satisfied: babel!=2.0,>=1.3 in /usr/local/lib/python3.6/dist-packages (from sphinx->smac<0.9,>=0.8->auto-sklearn) (2.6.0)\n",
            "Requirement already satisfied: Pygments>=2.0 in /usr/local/lib/python3.6/dist-packages (from sphinx->smac<0.9,>=0.8->auto-sklearn) (2.1.3)\n",
            "Requirement already satisfied: requests>=2.0.0 in /usr/local/lib/python3.6/dist-packages (from sphinx->smac<0.9,>=0.8->auto-sklearn) (2.18.4)\n",
            "Requirement already satisfied: snowballstemmer>=1.1 in /usr/local/lib/python3.6/dist-packages (from sphinx->smac<0.9,>=0.8->auto-sklearn) (1.2.1)\n",
            "Requirement already satisfied: packaging in /usr/local/lib/python3.6/dist-packages (from sphinx->smac<0.9,>=0.8->auto-sklearn) (18.0)\n",
            "Requirement already satisfied: alabaster<0.8,>=0.7 in /usr/local/lib/python3.6/dist-packages (from sphinx->smac<0.9,>=0.8->auto-sklearn) (0.7.12)\n",
            "Requirement already satisfied: imagesize in /usr/local/lib/python3.6/dist-packages (from sphinx->smac<0.9,>=0.8->auto-sklearn) (1.1.0)\n",
            "Requirement already satisfied: sphinxcontrib-websupport in /usr/local/lib/python3.6/dist-packages (from sphinx->smac<0.9,>=0.8->auto-sklearn) (1.1.0)\n",
            "Requirement already satisfied: Jinja2>=2.3 in /usr/local/lib/python3.6/dist-packages (from sphinx->smac<0.9,>=0.8->auto-sklearn) (2.10)\n",
            "Requirement already satisfied: chardet<3.1.0,>=3.0.2 in /usr/local/lib/python3.6/dist-packages (from requests>=2.0.0->sphinx->smac<0.9,>=0.8->auto-sklearn) (3.0.4)\n",
            "Requirement already satisfied: urllib3<1.23,>=1.21.1 in /usr/local/lib/python3.6/dist-packages (from requests>=2.0.0->sphinx->smac<0.9,>=0.8->auto-sklearn) (1.22)\n",
            "Requirement already satisfied: certifi>=2017.4.17 in /usr/local/lib/python3.6/dist-packages (from requests>=2.0.0->sphinx->smac<0.9,>=0.8->auto-sklearn) (2018.10.15)\n",
            "Requirement already satisfied: idna<2.7,>=2.5 in /usr/local/lib/python3.6/dist-packages (from requests>=2.0.0->sphinx->smac<0.9,>=0.8->auto-sklearn) (2.6)\n",
            "Requirement already satisfied: MarkupSafe>=0.23 in /usr/local/lib/python3.6/dist-packages (from Jinja2>=2.3->sphinx->smac<0.9,>=0.8->auto-sklearn) (1.0)\n",
            "Building wheels for collected packages: auto-sklearn, pynisher\n",
            "  Running setup.py bdist_wheel for auto-sklearn ... \u001b[?25l-\b \b\\\b \b|\b \b/\b \b-\b \b\\\b \b|\b \b/\b \b-\b \b\\\b \b|\b \b/\b \b-\b \b\\\b \bdone\n",
            "\u001b[?25h  Stored in directory: /root/.cache/pip/wheels/3f/4e/d9/489ca4cb2f6fd94f58180b0073d15746583f772f25d9178b94\n",
            "  Running setup.py bdist_wheel for pynisher ... \u001b[?25l-\b \bdone\n",
            "\u001b[?25h  Stored in directory: /root/.cache/pip/wheels/81/35/cb/37fe9c279ac6e56fc8805e146a431c27550dce1ad868ffa04e\n",
            "Successfully built auto-sklearn pynisher\n",
            "Installing collected packages: pynisher, auto-sklearn\n",
            "  Found existing installation: pynisher 0.5.0\n",
            "    Uninstalling pynisher-0.5.0:\n",
            "      Successfully uninstalled pynisher-0.5.0\n",
            "Successfully installed auto-sklearn-0.4.0 pynisher-0.4.2\n",
            "Requirement already satisfied: requests in /usr/local/lib/python3.6/dist-packages (2.18.4)\n",
            "Requirement already satisfied: certifi>=2017.4.17 in /usr/local/lib/python3.6/dist-packages (from requests) (2018.10.15)\n",
            "Requirement already satisfied: idna<2.7,>=2.5 in /usr/local/lib/python3.6/dist-packages (from requests) (2.6)\n",
            "Requirement already satisfied: urllib3<1.23,>=1.21.1 in /usr/local/lib/python3.6/dist-packages (from requests) (1.22)\n",
            "Requirement already satisfied: chardet<3.1.0,>=3.0.2 in /usr/local/lib/python3.6/dist-packages (from requests) (3.0.4)\n",
            "Collecting tabulate\n",
            "\u001b[?25l  Downloading https://files.pythonhosted.org/packages/12/c2/11d6845db5edf1295bc08b2f488cf5937806586afe42936c3f34c097ebdc/tabulate-0.8.2.tar.gz (45kB)\n",
            "\u001b[K    100% |████████████████████████████████| 51kB 3.3MB/s \n",
            "\u001b[?25hBuilding wheels for collected packages: tabulate\n",
            "  Running setup.py bdist_wheel for tabulate ... \u001b[?25l-\b \bdone\n",
            "\u001b[?25h  Stored in directory: /root/.cache/pip/wheels/2a/85/33/2f6da85d5f10614cbe5a625eab3b3aebfdf43e7b857f25f829\n",
            "Successfully built tabulate\n",
            "Installing collected packages: tabulate\n",
            "Successfully installed tabulate-0.8.2\n",
            "Collecting colorama>=0.3.8\n",
            "  Downloading https://files.pythonhosted.org/packages/0a/93/6e8289231675d561d476d656c2ee3a868c1cca207e16c118d4503b25e2bf/colorama-0.4.0-py2.py3-none-any.whl\n",
            "Installing collected packages: colorama\n",
            "Successfully installed colorama-0.4.0\n",
            "Requirement already satisfied: future in /usr/local/lib/python3.6/dist-packages (0.16.0)\n",
            "Collecting autokeras\n",
            "  Downloading https://files.pythonhosted.org/packages/31/e3/24b5e5dd3d29ad90e68ed9e6bb79f10a68b308d15199af0436acb0649860/autokeras-0.2.18.tar.gz\n",
            "Collecting torch==0.4.1 (from autokeras)\n",
            "\u001b[?25l  Downloading https://files.pythonhosted.org/packages/49/0e/e382bcf1a6ae8225f50b99cc26effa2d4cc6d66975ccf3fa9590efcbedce/torch-0.4.1-cp36-cp36m-manylinux1_x86_64.whl (519.5MB)\n",
            "\u001b[K    100% |████████████████████████████████| 519.5MB 34kB/s \n",
            "tcmalloc: large alloc 1073750016 bytes == 0x58afa000 @  0x7f754fb9f2a4 0x594e17 0x626104 0x51190a 0x4f5277 0x510c78 0x5119bd 0x4f5277 0x4f3338 0x510fb0 0x5119bd 0x4f5277 0x4f3338 0x510fb0 0x5119bd 0x4f5277 0x4f3338 0x510fb0 0x5119bd 0x4f6070 0x510c78 0x5119bd 0x4f5277 0x4f3338 0x510fb0 0x5119bd 0x4f6070 0x4f3338 0x510fb0 0x5119bd 0x4f6070\n",
            "\u001b[?25hCollecting torchvision==0.2.1 (from autokeras)\n",
            "\u001b[?25l  Downloading https://files.pythonhosted.org/packages/ca/0d/f00b2885711e08bd71242ebe7b96561e6f6d01fdb4b9dcf4d37e2e13c5e1/torchvision-0.2.1-py2.py3-none-any.whl (54kB)\n",
            "\u001b[K    100% |████████████████████████████████| 61kB 20.9MB/s \n",
            "\u001b[?25hRequirement already satisfied: numpy>=1.14.5 in /usr/local/lib/python3.6/dist-packages (from autokeras) (1.14.6)\n",
            "Collecting keras==2.2.2 (from autokeras)\n",
            "\u001b[?25l  Downloading https://files.pythonhosted.org/packages/34/7d/b1dedde8af99bd82f20ed7e9697aac0597de3049b1f786aa2aac3b9bd4da/Keras-2.2.2-py2.py3-none-any.whl (299kB)\n",
            "\u001b[K    100% |████████████████████████████████| 307kB 4.6MB/s \n",
            "\u001b[?25hCollecting scikit-learn==0.19.1 (from autokeras)\n",
            "\u001b[?25l  Downloading https://files.pythonhosted.org/packages/3d/2d/9fbc7baa5f44bc9e88ffb7ed32721b879bfa416573e85031e16f52569bc9/scikit_learn-0.19.1-cp36-cp36m-manylinux1_x86_64.whl (12.4MB)\n",
            "\u001b[K    100% |████████████████████████████████| 12.4MB 2.6MB/s \n",
            "\u001b[?25hRequirement already satisfied: tensorflow>=1.10.0 in /usr/local/lib/python3.6/dist-packages (from autokeras) (1.12.0rc1)\n",
            "Collecting tqdm==4.25.0 (from autokeras)\n",
            "\u001b[?25l  Downloading https://files.pythonhosted.org/packages/c7/e0/52b2faaef4fd87f86eb8a8f1afa2cd6eb11146822033e29c04ac48ada32c/tqdm-4.25.0-py2.py3-none-any.whl (43kB)\n",
            "\u001b[K    100% |████████████████████████████████| 51kB 22.1MB/s \n",
            "\u001b[?25hCollecting pillow>=4.1.1 (from torchvision==0.2.1->autokeras)\n",
            "\u001b[?25l  Downloading https://files.pythonhosted.org/packages/62/94/5430ebaa83f91cc7a9f687ff5238e26164a779cca2ef9903232268b0a318/Pillow-5.3.0-cp36-cp36m-manylinux1_x86_64.whl (2.0MB)\n",
            "\u001b[K    100% |████████████████████████████████| 2.0MB 4.1MB/s \n",
            "\u001b[?25hRequirement already satisfied: six in /usr/local/lib/python3.6/dist-packages (from torchvision==0.2.1->autokeras) (1.11.0)\n",
            "Requirement already satisfied: pyyaml in /usr/local/lib/python3.6/dist-packages (from keras==2.2.2->autokeras) (3.13)\n",
            "Collecting keras-preprocessing==1.0.2 (from keras==2.2.2->autokeras)\n",
            "  Downloading https://files.pythonhosted.org/packages/71/26/1e778ebd737032749824d5cba7dbd3b0cf9234b87ab5ec79f5f0403ca7e9/Keras_Preprocessing-1.0.2-py2.py3-none-any.whl\n",
            "Requirement already satisfied: h5py in /usr/local/lib/python3.6/dist-packages (from keras==2.2.2->autokeras) (2.8.0)\n",
            "Collecting keras-applications==1.0.4 (from keras==2.2.2->autokeras)\n",
            "\u001b[?25l  Downloading https://files.pythonhosted.org/packages/54/90/8f327deaa37a71caddb59b7b4aaa9d4b3e90c0e76f8c2d1572005278ddc5/Keras_Applications-1.0.4-py2.py3-none-any.whl (43kB)\n",
            "\u001b[K    100% |████████████████████████████████| 51kB 21.1MB/s \n",
            "\u001b[?25hRequirement already satisfied: scipy>=0.14 in /usr/local/lib/python3.6/dist-packages (from keras==2.2.2->autokeras) (0.19.1)\n",
            "Requirement already satisfied: wheel>=0.26 in /usr/local/lib/python3.6/dist-packages (from tensorflow>=1.10.0->autokeras) (0.32.1)\n",
            "Requirement already satisfied: astor>=0.6.0 in /usr/local/lib/python3.6/dist-packages (from tensorflow>=1.10.0->autokeras) (0.7.1)\n",
            "Requirement already satisfied: protobuf>=3.6.1 in /usr/local/lib/python3.6/dist-packages (from tensorflow>=1.10.0->autokeras) (3.6.1)\n",
            "Requirement already satisfied: gast>=0.2.0 in /usr/local/lib/python3.6/dist-packages (from tensorflow>=1.10.0->autokeras) (0.2.0)\n",
            "Requirement already satisfied: grpcio>=1.8.6 in /usr/local/lib/python3.6/dist-packages (from tensorflow>=1.10.0->autokeras) (1.15.0)\n",
            "Requirement already satisfied: tensorboard<1.12.0,>=1.11.0 in /usr/local/lib/python3.6/dist-packages (from tensorflow>=1.10.0->autokeras) (1.11.0)\n",
            "Requirement already satisfied: termcolor>=1.1.0 in /usr/local/lib/python3.6/dist-packages (from tensorflow>=1.10.0->autokeras) (1.1.0)\n",
            "Requirement already satisfied: absl-py>=0.1.6 in /usr/local/lib/python3.6/dist-packages (from tensorflow>=1.10.0->autokeras) (0.5.0)\n",
            "Requirement already satisfied: setuptools in /usr/local/lib/python3.6/dist-packages (from protobuf>=3.6.1->tensorflow>=1.10.0->autokeras) (40.4.3)\n",
            "Requirement already satisfied: markdown>=2.6.8 in /usr/local/lib/python3.6/dist-packages (from tensorboard<1.12.0,>=1.11.0->tensorflow>=1.10.0->autokeras) (3.0.1)\n",
            "Requirement already satisfied: werkzeug>=0.11.10 in /usr/local/lib/python3.6/dist-packages (from tensorboard<1.12.0,>=1.11.0->tensorflow>=1.10.0->autokeras) (0.14.1)\n",
            "Building wheels for collected packages: autokeras\n",
            "  Running setup.py bdist_wheel for autokeras ... \u001b[?25l-\b \bdone\n",
            "\u001b[?25h  Stored in directory: /root/.cache/pip/wheels/2e/43/47/cf83736eb82ecfbf5f6b360e8922b36056c1ab11d92040a304\n",
            "Successfully built autokeras\n",
            "\u001b[31mtensorflow 1.12.0rc1 has requirement keras-applications>=1.0.6, but you'll have keras-applications 1.0.4 which is incompatible.\u001b[0m\n",
            "\u001b[31mtensorflow 1.12.0rc1 has requirement keras-preprocessing>=1.0.5, but you'll have keras-preprocessing 1.0.2 which is incompatible.\u001b[0m\n",
            "\u001b[31mspacy 2.0.16 has requirement numpy>=1.15.0, but you'll have numpy 1.14.6 which is incompatible.\u001b[0m\n",
            "Installing collected packages: torch, pillow, torchvision, keras-preprocessing, keras-applications, keras, scikit-learn, tqdm, autokeras\n",
            "  Found existing installation: Pillow 4.0.0\n",
            "    Uninstalling Pillow-4.0.0:\n",
            "      Successfully uninstalled Pillow-4.0.0\n",
            "  Found existing installation: Keras-Preprocessing 1.0.5\n",
            "    Uninstalling Keras-Preprocessing-1.0.5:\n",
            "      Successfully uninstalled Keras-Preprocessing-1.0.5\n",
            "  Found existing installation: Keras-Applications 1.0.6\n",
            "    Uninstalling Keras-Applications-1.0.6:\n",
            "      Successfully uninstalled Keras-Applications-1.0.6\n",
            "  Found existing installation: Keras 2.1.6\n",
            "    Uninstalling Keras-2.1.6:\n",
            "      Successfully uninstalled Keras-2.1.6\n",
            "  Found existing installation: scikit-learn 0.19.2\n",
            "    Uninstalling scikit-learn-0.19.2:\n",
            "      Successfully uninstalled scikit-learn-0.19.2\n",
            "  Found existing installation: tqdm 4.27.0\n",
            "    Uninstalling tqdm-4.27.0:\n",
            "      Successfully uninstalled tqdm-4.27.0\n",
            "Successfully installed autokeras-0.2.18 keras-2.2.2 keras-applications-1.0.4 keras-preprocessing-1.0.2 pillow-5.3.0 scikit-learn-0.19.1 torch-0.4.1 torchvision-0.2.1 tqdm-4.25.0\n",
            "Looking in links: http://h2o-release.s3.amazonaws.com/h2o/latest_stable_Py.html\n",
            "Collecting h2o\n",
            "\u001b[33m  The repository located at h2o-release.s3.amazonaws.com is not a trusted or secure host and is being ignored. If this repository is available via HTTPS we recommend you use HTTPS instead, otherwise you may silence this warning and allow it anyway with '--trusted-host h2o-release.s3.amazonaws.com'.\u001b[0m\n",
            "\u001b[?25l  Downloading https://files.pythonhosted.org/packages/08/e7/b4663b9a9923da93abcb7ec7d20a82ceed14feb637912ab258006523b8fc/h2o-3.20.0.8.tar.gz (127.9MB)\n",
            "\u001b[K    100% |████████████████████████████████| 127.9MB 260kB/s \n",
            "\u001b[?25hRequirement already satisfied: requests in /usr/local/lib/python3.6/dist-packages (from h2o) (2.18.4)\n",
            "Requirement already satisfied: tabulate in /usr/local/lib/python3.6/dist-packages (from h2o) (0.8.2)\n",
            "Requirement already satisfied: future in /usr/local/lib/python3.6/dist-packages (from h2o) (0.16.0)\n",
            "Requirement already satisfied: colorama>=0.3.8 in /usr/local/lib/python3.6/dist-packages (from h2o) (0.4.0)\n",
            "Requirement already satisfied: idna<2.7,>=2.5 in /usr/local/lib/python3.6/dist-packages (from requests->h2o) (2.6)\n",
            "Requirement already satisfied: certifi>=2017.4.17 in /usr/local/lib/python3.6/dist-packages (from requests->h2o) (2018.10.15)\n",
            "Requirement already satisfied: urllib3<1.23,>=1.21.1 in /usr/local/lib/python3.6/dist-packages (from requests->h2o) (1.22)\n",
            "Requirement already satisfied: chardet<3.1.0,>=3.0.2 in /usr/local/lib/python3.6/dist-packages (from requests->h2o) (3.0.4)\n",
            "Building wheels for collected packages: h2o\n",
            "  Running setup.py bdist_wheel for h2o ... \u001b[?25l-\b \b\\\b \b|\b \b/\b \b-\b \bdone\n",
            "\u001b[?25h  Stored in directory: /root/.cache/pip/wheels/1d/6c/69/e23f960b9360e12ce4d97d2039bc4d516321fae382b3d477a6\n",
            "Successfully built h2o\n",
            "Installing collected packages: h2o\n",
            "Successfully installed h2o-3.20.0.8\n",
            "title: oo_data_region.hdf, id: 17FXh20y_J2TOyntDT4BezRXP3ZmDtKVR\n",
            "downloading to /root/data/oo_data_region.hdf\n",
            "title: oo_data.hdf, id: 1tHKK1UmvATNakHO43Ius3r7xP_w7I-bx\n",
            "downloading to /root/data/oo_data.hdf\n"
          ],
          "name": "stdout"
        }
      ]
    },
    {
      "metadata": {
        "id": "bRshjp91tUJR",
        "colab_type": "code",
        "outputId": "813adf40-7860-42a9-9551-2d8c4ef477a1",
        "colab": {
          "base_uri": "https://localhost:8080/",
          "height": 508
        }
      },
      "cell_type": "code",
      "source": [
        "import pandas as pd\n",
        "import seaborn as sns\n",
        "sns.set(style=\"ticks\")\n",
        "sns.set_palette(\"husl\")\n",
        "import numpy as np\n",
        "import warnings\n",
        "import matplotlib.pyplot as plt\n",
        "from sklearn.metrics import accuracy_score\n",
        "from tpot import TPOTClassifier\n",
        "import autosklearn.classification\n",
        "warnings.filterwarnings('ignore')\n",
        "%matplotlib inline\n",
        "import h2o\n",
        "from h2o.automl import H2OAutoML\n",
        "from sklearn.model_selection import train_test_split\n",
        "\n",
        "h2o.init()"
      ],
      "execution_count": 4,
      "outputs": [
        {
          "output_type": "stream",
          "text": [
            "Checking whether there is an H2O instance running at http://localhost:54321..... not found.\n",
            "Attempting to start a local H2O server...\n",
            "  Java Version: openjdk version \"1.8.0_181\"; OpenJDK Runtime Environment (build 1.8.0_181-8u181-b13-0ubuntu0.18.04.1-b13); OpenJDK 64-Bit Server VM (build 25.181-b13, mixed mode)\n",
            "  Starting server from /usr/local/lib/python3.6/dist-packages/h2o/backend/bin/h2o.jar\n",
            "  Ice root: /tmp/tmp4a5t15_7\n",
            "  JVM stdout: /tmp/tmp4a5t15_7/h2o_unknownUser_started_from_python.out\n",
            "  JVM stderr: /tmp/tmp4a5t15_7/h2o_unknownUser_started_from_python.err\n",
            "  Server is running at http://127.0.0.1:54321\n",
            "Connecting to H2O server at http://127.0.0.1:54321... successful.\n"
          ],
          "name": "stdout"
        },
        {
          "output_type": "display_data",
          "data": {
            "text/html": [
              "<div style=\"overflow:auto\"><table style=\"width:50%\"><tr><td>H2O cluster uptime:</td>\n",
              "<td>02 secs</td></tr>\n",
              "<tr><td>H2O cluster timezone:</td>\n",
              "<td>Etc/UTC</td></tr>\n",
              "<tr><td>H2O data parsing timezone:</td>\n",
              "<td>UTC</td></tr>\n",
              "<tr><td>H2O cluster version:</td>\n",
              "<td>3.20.0.8</td></tr>\n",
              "<tr><td>H2O cluster version age:</td>\n",
              "<td>1 month </td></tr>\n",
              "<tr><td>H2O cluster name:</td>\n",
              "<td>H2O_from_python_unknownUser_f6o9gn</td></tr>\n",
              "<tr><td>H2O cluster total nodes:</td>\n",
              "<td>1</td></tr>\n",
              "<tr><td>H2O cluster free memory:</td>\n",
              "<td>2.827 Gb</td></tr>\n",
              "<tr><td>H2O cluster total cores:</td>\n",
              "<td>2</td></tr>\n",
              "<tr><td>H2O cluster allowed cores:</td>\n",
              "<td>2</td></tr>\n",
              "<tr><td>H2O cluster status:</td>\n",
              "<td>accepting new members, healthy</td></tr>\n",
              "<tr><td>H2O connection url:</td>\n",
              "<td>http://127.0.0.1:54321</td></tr>\n",
              "<tr><td>H2O connection proxy:</td>\n",
              "<td>None</td></tr>\n",
              "<tr><td>H2O internal security:</td>\n",
              "<td>False</td></tr>\n",
              "<tr><td>H2O API Extensions:</td>\n",
              "<td>XGBoost, Algos, AutoML, Core V3, Core V4</td></tr>\n",
              "<tr><td>Python version:</td>\n",
              "<td>3.6.6 final</td></tr></table></div>"
            ],
            "text/plain": [
              "--------------------------  ----------------------------------------\n",
              "H2O cluster uptime:         02 secs\n",
              "H2O cluster timezone:       Etc/UTC\n",
              "H2O data parsing timezone:  UTC\n",
              "H2O cluster version:        3.20.0.8\n",
              "H2O cluster version age:    1 month\n",
              "H2O cluster name:           H2O_from_python_unknownUser_f6o9gn\n",
              "H2O cluster total nodes:    1\n",
              "H2O cluster free memory:    2.827 Gb\n",
              "H2O cluster total cores:    2\n",
              "H2O cluster allowed cores:  2\n",
              "H2O cluster status:         accepting new members, healthy\n",
              "H2O connection url:         http://127.0.0.1:54321\n",
              "H2O connection proxy:\n",
              "H2O internal security:      False\n",
              "H2O API Extensions:         XGBoost, Algos, AutoML, Core V3, Core V4\n",
              "Python version:             3.6.6 final\n",
              "--------------------------  ----------------------------------------"
            ]
          },
          "metadata": {
            "tags": []
          }
        }
      ]
    },
    {
      "metadata": {
        "id": "DC_qFAHgUR_Q",
        "colab_type": "text"
      },
      "cell_type": "markdown",
      "source": [
        "Loading some helper functions and data"
      ]
    },
    {
      "metadata": {
        "id": "gPiDtkMKs6Mt",
        "colab_type": "code",
        "colab": {}
      },
      "cell_type": "code",
      "source": [
        "oo_df = pd.read_hdf('/root/data/oo_data_region.hdf', 'data')\n",
        "\n",
        "oo_df['increase'] = np.sign(oo_df['price_perc'])\n",
        "oo_jaen_df = oo_df.loc[oo_df['provincia'] == 'JAEN', [ \n",
        "        'price_perc-2w', 'price_perc-4w', 'price_perc-6w', 'price_perc-8w',\n",
        "        'production_tons-1m_sum', 'production_tons-12m_sum', 'production_tons-3m_sum','production_tons-6m_sum', 'production_tons-9m_sum',\n",
        "        'tmin', 'tmax', 'tmed', 'prec', 'racha', 'prec-4w_sum', 'prec-13w_sum', 'prec-26w_sum', 'prec-52w_sum', 'tmed-4w_mean', 'freeze_damage', \n",
        "        'week_nr', 'increase']]\n",
        "X_train, X_test, y_train, y_test = train_test_split(oo_jaen_df.drop(columns='increase'), oo_jaen_df['increase'], \n",
        "                                                    train_size=0.75, test_size=0.25)"
      ],
      "execution_count": 0,
      "outputs": []
    },
    {
      "metadata": {
        "id": "GgGTJfvBAbQL",
        "colab_type": "code",
        "colab": {
          "base_uri": "https://localhost:8080/",
          "height": 938
        },
        "outputId": "a14989f7-b4e7-4718-c68f-ac1cb21c9eb1"
      },
      "cell_type": "code",
      "source": [
        "tpot_model = TPOTClassifier(generations=50, population_size=100, verbosity=2, n_jobs=-1)\n",
        "tpot_model.fit(X_train, y_train)\n",
        "print('TPOT accuracy', tpot_model.score(X_test, y_test))"
      ],
      "execution_count": 7,
      "outputs": [
        {
          "output_type": "stream",
          "text": [
            ""
          ],
          "name": "stderr"
        },
        {
          "output_type": "stream",
          "text": [
            "Generation 1 - Current best internal CV score: 0.5786461608566873\n"
          ],
          "name": "stdout"
        },
        {
          "output_type": "stream",
          "text": [
            ""
          ],
          "name": "stderr"
        },
        {
          "output_type": "stream",
          "text": [
            "Generation 2 - Current best internal CV score: 0.5918058783321941\n"
          ],
          "name": "stdout"
        },
        {
          "output_type": "stream",
          "text": [
            ""
          ],
          "name": "stderr"
        },
        {
          "output_type": "stream",
          "text": [
            "Generation 3 - Current best internal CV score: 0.5967596263385737\n"
          ],
          "name": "stdout"
        },
        {
          "output_type": "stream",
          "text": [
            ""
          ],
          "name": "stderr"
        },
        {
          "output_type": "stream",
          "text": [
            "Generation 4 - Current best internal CV score: 0.6048279790385054\n"
          ],
          "name": "stdout"
        },
        {
          "output_type": "stream",
          "text": [
            ""
          ],
          "name": "stderr"
        },
        {
          "output_type": "stream",
          "text": [
            "Generation 5 - Current best internal CV score: 0.6048279790385054\n"
          ],
          "name": "stdout"
        },
        {
          "output_type": "stream",
          "text": [
            ""
          ],
          "name": "stderr"
        },
        {
          "output_type": "stream",
          "text": [
            "Generation 6 - Current best internal CV score: 0.6050708589655958\n"
          ],
          "name": "stdout"
        },
        {
          "output_type": "stream",
          "text": [
            ""
          ],
          "name": "stderr"
        },
        {
          "output_type": "stream",
          "text": [
            "Generation 7 - Current best internal CV score: 0.6074928229665072\n"
          ],
          "name": "stdout"
        },
        {
          "output_type": "stream",
          "text": [
            ""
          ],
          "name": "stderr"
        },
        {
          "output_type": "stream",
          "text": [
            "Generation 8 - Current best internal CV score: 0.6289970380496696\n"
          ],
          "name": "stdout"
        },
        {
          "output_type": "stream",
          "text": [
            ""
          ],
          "name": "stderr"
        },
        {
          "output_type": "stream",
          "text": [
            "Generation 9 - Current best internal CV score: 0.6338464342674869\n"
          ],
          "name": "stdout"
        },
        {
          "output_type": "stream",
          "text": [
            ""
          ],
          "name": "stderr"
        },
        {
          "output_type": "stream",
          "text": [
            "Generation 10 - Current best internal CV score: 0.6338464342674869\n"
          ],
          "name": "stdout"
        },
        {
          "output_type": "stream",
          "text": [
            ""
          ],
          "name": "stderr"
        },
        {
          "output_type": "stream",
          "text": [
            "Generation 11 - Current best internal CV score: 0.6338464342674869\n"
          ],
          "name": "stdout"
        },
        {
          "output_type": "stream",
          "text": [
            ""
          ],
          "name": "stderr"
        },
        {
          "output_type": "stream",
          "text": [
            "Generation 12 - Current best internal CV score: 0.6338464342674869\n"
          ],
          "name": "stdout"
        },
        {
          "output_type": "stream",
          "text": [
            ""
          ],
          "name": "stderr"
        },
        {
          "output_type": "stream",
          "text": [
            "Generation 13 - Current best internal CV score: 0.6338464342674869\n"
          ],
          "name": "stdout"
        },
        {
          "output_type": "stream",
          "text": [
            ""
          ],
          "name": "stderr"
        },
        {
          "output_type": "stream",
          "text": [
            "Generation 14 - Current best internal CV score: 0.6338464342674869\n"
          ],
          "name": "stdout"
        },
        {
          "output_type": "stream",
          "text": [
            ""
          ],
          "name": "stderr"
        },
        {
          "output_type": "stream",
          "text": [
            "Generation 15 - Current best internal CV score: 0.6338464342674869\n"
          ],
          "name": "stdout"
        },
        {
          "output_type": "stream",
          "text": [
            ""
          ],
          "name": "stderr"
        },
        {
          "output_type": "stream",
          "text": [
            "Generation 16 - Current best internal CV score: 0.6338464342674869\n"
          ],
          "name": "stdout"
        },
        {
          "output_type": "stream",
          "text": [
            ""
          ],
          "name": "stderr"
        },
        {
          "output_type": "stream",
          "text": [
            "Generation 17 - Current best internal CV score: 0.6338464342674869\n"
          ],
          "name": "stdout"
        },
        {
          "output_type": "stream",
          "text": [
            ""
          ],
          "name": "stderr"
        },
        {
          "output_type": "stream",
          "text": [
            "Generation 18 - Current best internal CV score: 0.6338464342674869\n"
          ],
          "name": "stdout"
        },
        {
          "output_type": "stream",
          "text": [
            ""
          ],
          "name": "stderr"
        },
        {
          "output_type": "stream",
          "text": [
            "Generation 19 - Current best internal CV score: 0.6338464342674869\n"
          ],
          "name": "stdout"
        },
        {
          "output_type": "stream",
          "text": [
            ""
          ],
          "name": "stderr"
        },
        {
          "output_type": "stream",
          "text": [
            "Generation 20 - Current best internal CV score: 0.6338464342674869\n"
          ],
          "name": "stdout"
        },
        {
          "output_type": "stream",
          "text": [
            ""
          ],
          "name": "stderr"
        },
        {
          "output_type": "stream",
          "text": [
            "Generation 21 - Current best internal CV score: 0.639559352927774\n"
          ],
          "name": "stdout"
        },
        {
          "output_type": "stream",
          "text": [
            ""
          ],
          "name": "stderr"
        },
        {
          "output_type": "stream",
          "text": [
            "Generation 22 - Current best internal CV score: 0.639559352927774\n"
          ],
          "name": "stdout"
        },
        {
          "output_type": "stream",
          "text": [
            ""
          ],
          "name": "stderr"
        },
        {
          "output_type": "stream",
          "text": [
            "Generation 23 - Current best internal CV score: 0.639559352927774\n"
          ],
          "name": "stdout"
        },
        {
          "output_type": "stream",
          "text": [
            ""
          ],
          "name": "stderr"
        },
        {
          "output_type": "stream",
          "text": [
            "Generation 24 - Current best internal CV score: 0.639559352927774\n"
          ],
          "name": "stdout"
        },
        {
          "output_type": "stream",
          "text": [
            ""
          ],
          "name": "stderr"
        },
        {
          "output_type": "stream",
          "text": [
            "Generation 25 - Current best internal CV score: 0.639559352927774\n"
          ],
          "name": "stdout"
        },
        {
          "output_type": "stream",
          "text": [
            ""
          ],
          "name": "stderr"
        },
        {
          "output_type": "stream",
          "text": [
            "Generation 26 - Current best internal CV score: 0.639559352927774\n"
          ],
          "name": "stdout"
        },
        {
          "output_type": "stream",
          "text": [
            ""
          ],
          "name": "stderr"
        },
        {
          "output_type": "stream",
          "text": [
            "Generation 27 - Current best internal CV score: 0.639559352927774\n"
          ],
          "name": "stdout"
        },
        {
          "output_type": "stream",
          "text": [
            ""
          ],
          "name": "stderr"
        },
        {
          "output_type": "stream",
          "text": [
            "Generation 28 - Current best internal CV score: 0.639559352927774\n"
          ],
          "name": "stdout"
        },
        {
          "output_type": "stream",
          "text": [
            ""
          ],
          "name": "stderr"
        },
        {
          "output_type": "stream",
          "text": [
            "Generation 29 - Current best internal CV score: 0.639559352927774\n"
          ],
          "name": "stdout"
        },
        {
          "output_type": "stream",
          "text": [
            ""
          ],
          "name": "stderr"
        },
        {
          "output_type": "stream",
          "text": [
            "Generation 30 - Current best internal CV score: 0.6421558441558441\n"
          ],
          "name": "stdout"
        },
        {
          "output_type": "stream",
          "text": [
            ""
          ],
          "name": "stderr"
        },
        {
          "output_type": "stream",
          "text": [
            "Generation 31 - Current best internal CV score: 0.6421558441558441\n"
          ],
          "name": "stdout"
        },
        {
          "output_type": "stream",
          "text": [
            ""
          ],
          "name": "stderr"
        },
        {
          "output_type": "stream",
          "text": [
            "Generation 32 - Current best internal CV score: 0.6447190704032809\n"
          ],
          "name": "stdout"
        },
        {
          "output_type": "stream",
          "text": [
            ""
          ],
          "name": "stderr"
        },
        {
          "output_type": "stream",
          "text": [
            "Generation 33 - Current best internal CV score: 0.6447190704032809\n"
          ],
          "name": "stdout"
        },
        {
          "output_type": "stream",
          "text": [
            ""
          ],
          "name": "stderr"
        },
        {
          "output_type": "stream",
          "text": [
            "Generation 34 - Current best internal CV score: 0.6499831396673502\n"
          ],
          "name": "stdout"
        },
        {
          "output_type": "stream",
          "text": [
            ""
          ],
          "name": "stderr"
        },
        {
          "output_type": "stream",
          "text": [
            "Generation 35 - Current best internal CV score: 0.6499831396673502\n"
          ],
          "name": "stdout"
        },
        {
          "output_type": "stream",
          "text": [
            ""
          ],
          "name": "stderr"
        },
        {
          "output_type": "stream",
          "text": [
            "Generation 36 - Current best internal CV score: 0.6499831396673502\n"
          ],
          "name": "stdout"
        },
        {
          "output_type": "stream",
          "text": [
            ""
          ],
          "name": "stderr"
        },
        {
          "output_type": "stream",
          "text": [
            "Generation 37 - Current best internal CV score: 0.6499831396673502\n"
          ],
          "name": "stdout"
        },
        {
          "output_type": "stream",
          "text": [
            ""
          ],
          "name": "stderr"
        },
        {
          "output_type": "stream",
          "text": [
            "Generation 38 - Current best internal CV score: 0.6499831396673502\n"
          ],
          "name": "stdout"
        },
        {
          "output_type": "stream",
          "text": [
            ""
          ],
          "name": "stderr"
        },
        {
          "output_type": "stream",
          "text": [
            "Generation 39 - Current best internal CV score: 0.6499831396673502\n"
          ],
          "name": "stdout"
        },
        {
          "output_type": "stream",
          "text": [
            ""
          ],
          "name": "stderr"
        },
        {
          "output_type": "stream",
          "text": [
            "Generation 40 - Current best internal CV score: 0.6499831396673502\n"
          ],
          "name": "stdout"
        },
        {
          "output_type": "stream",
          "text": [
            ""
          ],
          "name": "stderr"
        },
        {
          "output_type": "stream",
          "text": [
            "Generation 41 - Current best internal CV score: 0.6499831396673502\n"
          ],
          "name": "stdout"
        },
        {
          "output_type": "stream",
          "text": [
            ""
          ],
          "name": "stderr"
        },
        {
          "output_type": "stream",
          "text": [
            "Generation 42 - Current best internal CV score: 0.6499831396673502\n"
          ],
          "name": "stdout"
        },
        {
          "output_type": "stream",
          "text": [
            ""
          ],
          "name": "stderr"
        },
        {
          "output_type": "stream",
          "text": [
            "Generation 43 - Current best internal CV score: 0.6499831396673502\n"
          ],
          "name": "stdout"
        },
        {
          "output_type": "stream",
          "text": [
            ""
          ],
          "name": "stderr"
        },
        {
          "output_type": "stream",
          "text": [
            "Generation 44 - Current best internal CV score: 0.6499831396673502\n"
          ],
          "name": "stdout"
        },
        {
          "output_type": "stream",
          "text": [
            ""
          ],
          "name": "stderr"
        },
        {
          "output_type": "stream",
          "text": [
            "Generation 45 - Current best internal CV score: 0.6499831396673502\n"
          ],
          "name": "stdout"
        },
        {
          "output_type": "stream",
          "text": [
            ""
          ],
          "name": "stderr"
        },
        {
          "output_type": "stream",
          "text": [
            "Generation 46 - Current best internal CV score: 0.6499831396673502\n"
          ],
          "name": "stdout"
        },
        {
          "output_type": "stream",
          "text": [
            ""
          ],
          "name": "stderr"
        },
        {
          "output_type": "stream",
          "text": [
            "Generation 47 - Current best internal CV score: 0.6499831396673502\n"
          ],
          "name": "stdout"
        },
        {
          "output_type": "stream",
          "text": [
            ""
          ],
          "name": "stderr"
        },
        {
          "output_type": "stream",
          "text": [
            "Generation 48 - Current best internal CV score: 0.6499831396673502\n"
          ],
          "name": "stdout"
        },
        {
          "output_type": "stream",
          "text": [
            ""
          ],
          "name": "stderr"
        },
        {
          "output_type": "stream",
          "text": [
            "Generation 49 - Current best internal CV score: 0.6499831396673502\n"
          ],
          "name": "stdout"
        },
        {
          "output_type": "stream",
          "text": [
            ""
          ],
          "name": "stderr"
        },
        {
          "output_type": "stream",
          "text": [
            "Generation 50 - Current best internal CV score: 0.6499831396673502\n"
          ],
          "name": "stdout"
        },
        {
          "output_type": "stream",
          "text": [
            ""
          ],
          "name": "stderr"
        },
        {
          "output_type": "stream",
          "text": [
            "\n",
            "Best pipeline: XGBClassifier(XGBClassifier(MinMaxScaler(PCA(XGBClassifier(input_matrix, learning_rate=0.5, max_depth=1, min_child_weight=2, n_estimators=100, nthread=1, subsample=0.8500000000000001), iterated_power=3, svd_solver=randomized)), learning_rate=0.001, max_depth=8, min_child_weight=12, n_estimators=100, nthread=1, subsample=0.8500000000000001), learning_rate=0.5, max_depth=1, min_child_weight=4, n_estimators=100, nthread=1, subsample=1.0)\n",
            "TPOT accuracy 0.5511811023622047\n"
          ],
          "name": "stdout"
        }
      ]
    },
    {
      "metadata": {
        "id": "rfz3LzHrhxFT",
        "colab_type": "code",
        "colab": {
          "base_uri": "https://localhost:8080/",
          "height": 292
        },
        "outputId": "2b4805da-1890-4a1e-99e5-77ba43ad907e"
      },
      "cell_type": "code",
      "source": [
        "autosklearn_model = autosklearn.classification.AutoSklearnClassifier(time_left_for_this_task=60*60*2)\n",
        "autosklearn_model.fit(X_train, y_train)\n",
        "print('Autosklearn accuracy', autosklearn_model.score(X_test, y_test))"
      ],
      "execution_count": 8,
      "outputs": [
        {
          "output_type": "stream",
          "text": [
            "[WARNING] [2018-10-22 17:58:00,754:EnsembleBuilder(1):594db4f6123fb2fd68f4eaeae84e2b8c] No models better than random - using Dummy Classifier!\n",
            "\n",
            "[WARNING] [2018-10-22 17:58:00,770:EnsembleBuilder(1):594db4f6123fb2fd68f4eaeae84e2b8c] No models better than random - using Dummy Classifier![WARNING] [2018-10-22 18:00:12,724:smac.intensification.intensification.Intensifier] Challenger was the same as the current incumbent; Skipping challenger\n",
            "[WARNING] [2018-10-22 18:00:12,724:smac.intensification.intensification.Intensifier] Challenger was the same as the current incumbent; Skipping challenger\n",
            "[WARNING] [2018-10-22 18:05:29,909:smac.intensification.intensification.Intensifier] Challenger was the same as the current incumbent; Skipping challenger\n",
            "[WARNING] [2018-10-22 18:05:29,909:smac.intensification.intensification.Intensifier] Challenger was the same as the current incumbent; Skipping challenger\n",
            "[WARNING] [2018-10-22 18:05:49,095:smac.intensification.intensification.Intensifier] Challenger was the same as the current incumbent; Skipping challenger\n",
            "[WARNING] [2018-10-22 18:05:49,095:smac.intensification.intensification.Intensifier] Challenger was the same as the current incumbent; Skipping challenger\n",
            "[WARNING] [2018-10-22 18:07:23,118:smac.intensification.intensification.Intensifier] Challenger was the same as the current incumbent; Skipping challenger\n",
            "[WARNING] [2018-10-22 18:07:23,118:smac.intensification.intensification.Intensifier] Challenger was the same as the current incumbent; Skipping challenger\n",
            "[WARNING] [2018-10-22 18:09:27,751:smac.intensification.intensification.Intensifier] Challenger was the same as the current incumbent; Skipping challenger\n",
            "[WARNING] [2018-10-22 18:09:27,751:smac.intensification.intensification.Intensifier] Challenger was the same as the current incumbent; Skipping challenger\n",
            "[WARNING] [2018-10-22 18:10:46,329:smac.intensification.intensification.Intensifier] Challenger was the same as the current incumbent; Skipping challenger\n",
            "[WARNING] [2018-10-22 18:10:46,329:smac.intensification.intensification.Intensifier] Challenger was the same as the current incumbent; Skipping challenger\n",
            "Autosklearn accuracy 0.5590551181102362\n"
          ],
          "name": "stdout"
        }
      ]
    },
    {
      "metadata": {
        "id": "WE0ZRdJLqZky",
        "colab_type": "code",
        "colab": {
          "base_uri": "https://localhost:8080/",
          "height": 2629
        },
        "outputId": "9304a30d-a97c-4c93-94f0-5d25de4de20a"
      },
      "cell_type": "code",
      "source": [
        "train_full_df = X_train.copy()\n",
        "train_full_df['increase'] = y_train\n",
        "test_full_df = X_test.copy()\n",
        "test_full_df['increase'] = y_test\n",
        "train = h2o.H2OFrame(train_full_df)\n",
        "test = h2o.H2OFrame(test_full_df)\n",
        "x = train.columns\n",
        "y = \"increase\"\n",
        "x.remove(y)\n",
        "\n",
        "train[y] = train[y].asfactor()\n",
        "test[y] = test[y].asfactor()\n",
        "\n",
        "h2o_model = H2OAutoML(max_runtime_secs = 60*60*2)\n",
        "h2o_model.train(x = x, y = y, training_frame = train)\n",
        "predictions = h2o_model.leader.predict(test).as_data_frame()['predict']\n",
        "print(h2o_model.leaderboard)\n",
        "print(h2o_model.leader)\n",
        "print('H2O accuracy', accuracy_score(predictions, y_test))"
      ],
      "execution_count": 9,
      "outputs": [
        {
          "output_type": "stream",
          "text": [
            "Parse progress: |█████████████████████████████████████████████████████████| 100%\n",
            "Parse progress: |█████████████████████████████████████████████████████████| 100%\n",
            "AutoML progress: |████████████████████████████████████████████████████████| 100%\n",
            "deeplearning prediction progress: |███████████████████████████████████████| 100%\n"
          ],
          "name": "stdout"
        },
        {
          "output_type": "display_data",
          "data": {
            "text/html": [
              "<table>\n",
              "<thead>\n",
              "<tr><th>model_id                                           </th><th style=\"text-align: right;\">  mean_per_class_error</th><th style=\"text-align: right;\">  logloss</th><th style=\"text-align: right;\">    rmse</th><th style=\"text-align: right;\">     mse</th></tr>\n",
              "</thead>\n",
              "<tbody>\n",
              "<tr><td>DeepLearning_grid_0_AutoML_20181022_200359_model_20</td><td style=\"text-align: right;\">              0.478262</td><td style=\"text-align: right;\"> 1.4359  </td><td style=\"text-align: right;\">0.603373</td><td style=\"text-align: right;\">0.364059</td></tr>\n",
              "<tr><td>DeepLearning_grid_0_AutoML_20181022_200359_model_9 </td><td style=\"text-align: right;\">              0.485635</td><td style=\"text-align: right;\"> 1.14624 </td><td style=\"text-align: right;\">0.589188</td><td style=\"text-align: right;\">0.347143</td></tr>\n",
              "<tr><td>DeepLearning_grid_0_AutoML_20181022_200359_model_14</td><td style=\"text-align: right;\">              0.487166</td><td style=\"text-align: right;\"> 1.11336 </td><td style=\"text-align: right;\">0.592127</td><td style=\"text-align: right;\">0.350615</td></tr>\n",
              "<tr><td>DeepLearning_grid_0_AutoML_20181022_200359_model_13</td><td style=\"text-align: right;\">              0.522563</td><td style=\"text-align: right;\"> 1.48642 </td><td style=\"text-align: right;\">0.635253</td><td style=\"text-align: right;\">0.403546</td></tr>\n",
              "<tr><td>DeepLearning_grid_0_AutoML_20181022_200359_model_2 </td><td style=\"text-align: right;\">              0.601024</td><td style=\"text-align: right;\"> 0.773269</td><td style=\"text-align: right;\">0.518256</td><td style=\"text-align: right;\">0.26859 </td></tr>\n",
              "<tr><td>DeepLearning_grid_0_AutoML_20181022_200359_model_6 </td><td style=\"text-align: right;\">              0.608398</td><td style=\"text-align: right;\"> 0.866237</td><td style=\"text-align: right;\">0.534883</td><td style=\"text-align: right;\">0.2861  </td></tr>\n",
              "<tr><td>GBM_grid_0_AutoML_20181022_200359_model_7          </td><td style=\"text-align: right;\">              0.615021</td><td style=\"text-align: right;\"> 1.08165 </td><td style=\"text-align: right;\">0.66094 </td><td style=\"text-align: right;\">0.436842</td></tr>\n",
              "<tr><td>GBM_grid_0_AutoML_20181022_200359_model_40         </td><td style=\"text-align: right;\">              0.619407</td><td style=\"text-align: right;\"> 1.58913 </td><td style=\"text-align: right;\">0.604241</td><td style=\"text-align: right;\">0.365107</td></tr>\n",
              "<tr><td>GBM_grid_0_AutoML_20181022_200359_model_10         </td><td style=\"text-align: right;\">              0.619407</td><td style=\"text-align: right;\"> 0.802005</td><td style=\"text-align: right;\">0.535262</td><td style=\"text-align: right;\">0.286506</td></tr>\n",
              "<tr><td>DeepLearning_grid_0_AutoML_20181022_200359_model_22</td><td style=\"text-align: right;\">              0.620805</td><td style=\"text-align: right;\"> 0.82109 </td><td style=\"text-align: right;\">0.537648</td><td style=\"text-align: right;\">0.289065</td></tr>\n",
              "</tbody>\n",
              "</table>"
            ]
          },
          "metadata": {
            "tags": []
          }
        },
        {
          "output_type": "stream",
          "text": [
            "\n",
            "Model Details\n",
            "=============\n",
            "H2ODeepLearningEstimator :  Deep Learning\n",
            "Model Key:  DeepLearning_grid_0_AutoML_20181022_200359_model_20\n",
            "\n",
            "\n",
            "ModelMetricsMultinomial: deeplearning\n",
            "** Reported on train data. **\n",
            "\n",
            "MSE: 0.013210817787674065\n",
            "RMSE: 0.11493832166720577\n",
            "LogLoss: 0.05648928096215949\n",
            "Mean Per-Class Error: 0.011009066289885787\n",
            "Confusion Matrix: Row labels: Actual class; Column labels: Predicted class\n",
            "\n"
          ],
          "name": "stdout"
        },
        {
          "output_type": "display_data",
          "data": {
            "text/html": [
              "<div style=\"overflow:auto\"><table style=\"width:50%\"><tr><td><b>-1</b></td>\n",
              "<td><b>0</b></td>\n",
              "<td><b>1</b></td>\n",
              "<td><b>Error</b></td>\n",
              "<td><b>Rate</b></td></tr>\n",
              "<tr><td>148.0</td>\n",
              "<td>0.0</td>\n",
              "<td>4.0</td>\n",
              "<td>0.0263158</td>\n",
              "<td>4 / 152</td></tr>\n",
              "<tr><td>0.0</td>\n",
              "<td>2.0</td>\n",
              "<td>0.0</td>\n",
              "<td>0.0</td>\n",
              "<td>0 / 2</td></tr>\n",
              "<tr><td>1.0</td>\n",
              "<td>0.0</td>\n",
              "<td>148.0</td>\n",
              "<td>0.0067114</td>\n",
              "<td>1 / 149</td></tr>\n",
              "<tr><td>149.0</td>\n",
              "<td>2.0</td>\n",
              "<td>152.0</td>\n",
              "<td>0.0165017</td>\n",
              "<td>5 / 303</td></tr></table></div>"
            ],
            "text/plain": [
              "-1    0    1    Error       Rate\n",
              "----  ---  ---  ----------  -------\n",
              "148   0    4    0.0263158   4 / 152\n",
              "0     2    0    0           0 / 2\n",
              "1     0    148  0.00671141  1 / 149\n",
              "149   2    152  0.0165017   5 / 303"
            ]
          },
          "metadata": {
            "tags": []
          }
        },
        {
          "output_type": "stream",
          "text": [
            "Top-3 Hit Ratios: \n"
          ],
          "name": "stdout"
        },
        {
          "output_type": "display_data",
          "data": {
            "text/html": [
              "<div style=\"overflow:auto\"><table style=\"width:50%\"><tr><td><b>k</b></td>\n",
              "<td><b>hit_ratio</b></td></tr>\n",
              "<tr><td>1</td>\n",
              "<td>0.9834983</td></tr>\n",
              "<tr><td>2</td>\n",
              "<td>1.0</td></tr>\n",
              "<tr><td>3</td>\n",
              "<td>1.0</td></tr></table></div>"
            ],
            "text/plain": [
              "k    hit_ratio\n",
              "---  -----------\n",
              "1    0.983498\n",
              "2    1\n",
              "3    1"
            ]
          },
          "metadata": {
            "tags": []
          }
        },
        {
          "output_type": "stream",
          "text": [
            "\n",
            "ModelMetricsMultinomial: deeplearning\n",
            "** Reported on validation data. **\n",
            "\n",
            "MSE: 0.4370687918613101\n",
            "RMSE: 0.6611117846940183\n",
            "LogLoss: 4.578437854617398\n",
            "Mean Per-Class Error: 0.31526648599819335\n",
            "Confusion Matrix: Row labels: Actual class; Column labels: Predicted class\n",
            "\n"
          ],
          "name": "stdout"
        },
        {
          "output_type": "display_data",
          "data": {
            "text/html": [
              "<div style=\"overflow:auto\"><table style=\"width:50%\"><tr><td><b>-1</b></td>\n",
              "<td><b>0</b></td>\n",
              "<td><b>1</b></td>\n",
              "<td><b>Error</b></td>\n",
              "<td><b>Rate</b></td></tr>\n",
              "<tr><td>16.0</td>\n",
              "<td>0.0</td>\n",
              "<td>20.0</td>\n",
              "<td>0.5555556</td>\n",
              "<td>20 / 36</td></tr>\n",
              "<tr><td>0.0</td>\n",
              "<td>0.0</td>\n",
              "<td>0.0</td>\n",
              "<td>nan</td>\n",
              "<td>0 / 0</td></tr>\n",
              "<tr><td>16.0</td>\n",
              "<td>0.0</td>\n",
              "<td>25.0</td>\n",
              "<td>0.3902439</td>\n",
              "<td>16 / 41</td></tr>\n",
              "<tr><td>32.0</td>\n",
              "<td>0.0</td>\n",
              "<td>45.0</td>\n",
              "<td>0.4675325</td>\n",
              "<td>36 / 77</td></tr></table></div>"
            ],
            "text/plain": [
              "-1    0    1    Error     Rate\n",
              "----  ---  ---  --------  -------\n",
              "16    0    20   0.555556  20 / 36\n",
              "0     0    0    nan       0 / 0\n",
              "16    0    25   0.390244  16 / 41\n",
              "32    0    45   0.467532  36 / 77"
            ]
          },
          "metadata": {
            "tags": []
          }
        },
        {
          "output_type": "stream",
          "text": [
            "Top-3 Hit Ratios: \n"
          ],
          "name": "stdout"
        },
        {
          "output_type": "display_data",
          "data": {
            "text/html": [
              "<div style=\"overflow:auto\"><table style=\"width:50%\"><tr><td><b>k</b></td>\n",
              "<td><b>hit_ratio</b></td></tr>\n",
              "<tr><td>1</td>\n",
              "<td>0.5324675</td></tr>\n",
              "<tr><td>2</td>\n",
              "<td>1.0</td></tr>\n",
              "<tr><td>3</td>\n",
              "<td>1.0</td></tr></table></div>"
            ],
            "text/plain": [
              "k    hit_ratio\n",
              "---  -----------\n",
              "1    0.532468\n",
              "2    1\n",
              "3    1"
            ]
          },
          "metadata": {
            "tags": []
          }
        },
        {
          "output_type": "stream",
          "text": [
            "\n",
            "ModelMetricsMultinomial: deeplearning\n",
            "** Reported on cross-validation data. **\n",
            "\n",
            "MSE: 0.36405899373959894\n",
            "RMSE: 0.6033730137647846\n",
            "LogLoss: 1.4359044210564866\n",
            "Mean Per-Class Error: 0.4782615094783939\n",
            "Confusion Matrix: Row labels: Actual class; Column labels: Predicted class\n",
            "\n"
          ],
          "name": "stdout"
        },
        {
          "output_type": "display_data",
          "data": {
            "text/html": [
              "<div style=\"overflow:auto\"><table style=\"width:50%\"><tr><td><b>-1</b></td>\n",
              "<td><b>0</b></td>\n",
              "<td><b>1</b></td>\n",
              "<td><b>Error</b></td>\n",
              "<td><b>Rate</b></td></tr>\n",
              "<tr><td>65.0</td>\n",
              "<td>2.0</td>\n",
              "<td>85.0</td>\n",
              "<td>0.5723684</td>\n",
              "<td>87 / 152</td></tr>\n",
              "<tr><td>0.0</td>\n",
              "<td>1.0</td>\n",
              "<td>1.0</td>\n",
              "<td>0.5</td>\n",
              "<td>1 / 2</td></tr>\n",
              "<tr><td>53.0</td>\n",
              "<td>1.0</td>\n",
              "<td>95.0</td>\n",
              "<td>0.3624161</td>\n",
              "<td>54 / 149</td></tr>\n",
              "<tr><td>118.0</td>\n",
              "<td>4.0</td>\n",
              "<td>181.0</td>\n",
              "<td>0.4686469</td>\n",
              "<td>142 / 303</td></tr></table></div>"
            ],
            "text/plain": [
              "-1    0    1    Error     Rate\n",
              "----  ---  ---  --------  ---------\n",
              "65    2    85   0.572368  87 / 152\n",
              "0     1    1    0.5       1 / 2\n",
              "53    1    95   0.362416  54 / 149\n",
              "118   4    181  0.468647  142 / 303"
            ]
          },
          "metadata": {
            "tags": []
          }
        },
        {
          "output_type": "stream",
          "text": [
            "Top-3 Hit Ratios: \n"
          ],
          "name": "stdout"
        },
        {
          "output_type": "display_data",
          "data": {
            "text/html": [
              "<div style=\"overflow:auto\"><table style=\"width:50%\"><tr><td><b>k</b></td>\n",
              "<td><b>hit_ratio</b></td></tr>\n",
              "<tr><td>1</td>\n",
              "<td>0.5313531</td></tr>\n",
              "<tr><td>2</td>\n",
              "<td>0.980198</td></tr>\n",
              "<tr><td>3</td>\n",
              "<td>1.0</td></tr></table></div>"
            ],
            "text/plain": [
              "k    hit_ratio\n",
              "---  -----------\n",
              "1    0.531353\n",
              "2    0.980198\n",
              "3    1"
            ]
          },
          "metadata": {
            "tags": []
          }
        },
        {
          "output_type": "stream",
          "text": [
            "Cross-Validation Metrics Summary: \n"
          ],
          "name": "stdout"
        },
        {
          "output_type": "display_data",
          "data": {
            "text/html": [
              "<div style=\"overflow:auto\"><table style=\"width:50%\"><tr><td><b></b></td>\n",
              "<td><b>mean</b></td>\n",
              "<td><b>sd</b></td>\n",
              "<td><b>cv_1_valid</b></td>\n",
              "<td><b>cv_2_valid</b></td>\n",
              "<td><b>cv_3_valid</b></td>\n",
              "<td><b>cv_4_valid</b></td>\n",
              "<td><b>cv_5_valid</b></td></tr>\n",
              "<tr><td>accuracy</td>\n",
              "<td>0.5313115</td>\n",
              "<td>0.0408460</td>\n",
              "<td>0.5901639</td>\n",
              "<td>0.5737705</td>\n",
              "<td>0.4426230</td>\n",
              "<td>0.4833333</td>\n",
              "<td>0.5666667</td></tr>\n",
              "<tr><td>err</td>\n",
              "<td>0.4686885</td>\n",
              "<td>0.0408460</td>\n",
              "<td>0.4098361</td>\n",
              "<td>0.4262295</td>\n",
              "<td>0.5573770</td>\n",
              "<td>0.5166667</td>\n",
              "<td>0.4333333</td></tr>\n",
              "<tr><td>err_count</td>\n",
              "<td>28.4</td>\n",
              "<td>2.4738634</td>\n",
              "<td>25.0</td>\n",
              "<td>26.0</td>\n",
              "<td>34.0</td>\n",
              "<td>31.0</td>\n",
              "<td>26.0</td></tr>\n",
              "<tr><td>logloss</td>\n",
              "<td>1.4357069</td>\n",
              "<td>0.1941344</td>\n",
              "<td>0.9583622</td>\n",
              "<td>1.7249882</td>\n",
              "<td>1.6836323</td>\n",
              "<td>1.3735173</td>\n",
              "<td>1.4380344</td></tr>\n",
              "<tr><td>max_per_class_error</td>\n",
              "<td>0.6949045</td>\n",
              "<td>0.1138749</td>\n",
              "<td>0.5675676</td>\n",
              "<td>0.625</td>\n",
              "<td>0.7105263</td>\n",
              "<td>0.5714286</td>\n",
              "<td>1.0</td></tr>\n",
              "<tr><td>mean_per_class_accuracy</td>\n",
              "<td>0.6337014</td>\n",
              "<td>0.0863698</td>\n",
              "<td>0.7528398</td>\n",
              "<td>0.6925676</td>\n",
              "<td>0.6617086</td>\n",
              "<td>0.6628571</td>\n",
              "<td>0.3985339</td></tr>\n",
              "<tr><td>mean_per_class_error</td>\n",
              "<td>0.3662986</td>\n",
              "<td>0.0863698</td>\n",
              "<td>0.2471602</td>\n",
              "<td>0.3074324</td>\n",
              "<td>0.3382914</td>\n",
              "<td>0.3371428</td>\n",
              "<td>0.6014661</td></tr>\n",
              "<tr><td>mse</td>\n",
              "<td>0.3640493</td>\n",
              "<td>0.0279463</td>\n",
              "<td>0.3108573</td>\n",
              "<td>0.3640275</td>\n",
              "<td>0.4202049</td>\n",
              "<td>0.3927679</td>\n",
              "<td>0.3323889</td></tr>\n",
              "<tr><td>r2</td>\n",
              "<td>0.6186134</td>\n",
              "<td>0.0296302</td>\n",
              "<td>0.6660797</td>\n",
              "<td>0.6186525</td>\n",
              "<td>0.5527511</td>\n",
              "<td>0.5960102</td>\n",
              "<td>0.6595733</td></tr>\n",
              "<tr><td>rmse</td>\n",
              "<td>0.6024737</td>\n",
              "<td>0.0231810</td>\n",
              "<td>0.5575457</td>\n",
              "<td>0.6033469</td>\n",
              "<td>0.6482321</td>\n",
              "<td>0.6267120</td>\n",
              "<td>0.5765318</td></tr></table></div>"
            ],
            "text/plain": [
              "                         mean      sd         cv_1_valid    cv_2_valid    cv_3_valid    cv_4_valid    cv_5_valid\n",
              "-----------------------  --------  ---------  ------------  ------------  ------------  ------------  ------------\n",
              "accuracy                 0.531311  0.040846   0.590164      0.57377       0.442623      0.483333      0.566667\n",
              "err                      0.468689  0.040846   0.409836      0.426229      0.557377      0.516667      0.433333\n",
              "err_count                28.4      2.47386    25            26            34            31            26\n",
              "logloss                  1.43571   0.194134   0.958362      1.72499       1.68363       1.37352       1.43803\n",
              "max_per_class_error      0.694905  0.113875   0.567568      0.625         0.710526      0.571429      1\n",
              "mean_per_class_accuracy  0.633701  0.0863698  0.75284       0.692568      0.661709      0.662857      0.398534\n",
              "mean_per_class_error     0.366299  0.0863698  0.24716       0.307432      0.338291      0.337143      0.601466\n",
              "mse                      0.364049  0.0279463  0.310857      0.364028      0.420205      0.392768      0.332389\n",
              "r2                       0.618613  0.0296302  0.66608       0.618652      0.552751      0.59601       0.659573\n",
              "rmse                     0.602474  0.023181   0.557546      0.603347      0.648232      0.626712      0.576532"
            ]
          },
          "metadata": {
            "tags": []
          }
        },
        {
          "output_type": "stream",
          "text": [
            "Scoring History: \n"
          ],
          "name": "stdout"
        },
        {
          "output_type": "display_data",
          "data": {
            "text/html": [
              "<div style=\"overflow:auto\"><table style=\"width:50%\"><tr><td><b></b></td>\n",
              "<td><b>timestamp</b></td>\n",
              "<td><b>duration</b></td>\n",
              "<td><b>training_speed</b></td>\n",
              "<td><b>epochs</b></td>\n",
              "<td><b>iterations</b></td>\n",
              "<td><b>samples</b></td>\n",
              "<td><b>training_rmse</b></td>\n",
              "<td><b>training_logloss</b></td>\n",
              "<td><b>training_r2</b></td>\n",
              "<td><b>training_classification_error</b></td>\n",
              "<td><b>validation_rmse</b></td>\n",
              "<td><b>validation_logloss</b></td>\n",
              "<td><b>validation_r2</b></td>\n",
              "<td><b>validation_classification_error</b></td></tr>\n",
              "<tr><td></td>\n",
              "<td>2018-10-22 20:58:27</td>\n",
              "<td> 0.000 sec</td>\n",
              "<td>None</td>\n",
              "<td>0.0</td>\n",
              "<td>0</td>\n",
              "<td>0.0</td>\n",
              "<td>nan</td>\n",
              "<td>nan</td>\n",
              "<td>nan</td>\n",
              "<td>nan</td>\n",
              "<td>nan</td>\n",
              "<td>nan</td>\n",
              "<td>nan</td>\n",
              "<td>nan</td></tr>\n",
              "<tr><td></td>\n",
              "<td>2018-10-22 20:58:27</td>\n",
              "<td>51 min 32.763 sec</td>\n",
              "<td>16833 obs/sec</td>\n",
              "<td>10.0</td>\n",
              "<td>1</td>\n",
              "<td>3030.0</td>\n",
              "<td>0.5195775</td>\n",
              "<td>0.9455903</td>\n",
              "<td>0.7282187</td>\n",
              "<td>0.3564356</td>\n",
              "<td>0.5927612</td>\n",
              "<td>1.2228237</td>\n",
              "<td>0.6471464</td>\n",
              "<td>0.4935065</td></tr>\n",
              "<tr><td></td>\n",
              "<td>2018-10-22 20:58:32</td>\n",
              "<td>51 min 37.867 sec</td>\n",
              "<td>24685 obs/sec</td>\n",
              "<td>430.0</td>\n",
              "<td>43</td>\n",
              "<td>130290.0</td>\n",
              "<td>0.3030178</td>\n",
              "<td>0.4326937</td>\n",
              "<td>0.9075610</td>\n",
              "<td>0.1089109</td>\n",
              "<td>0.6131536</td>\n",
              "<td>3.0321350</td>\n",
              "<td>0.6224508</td>\n",
              "<td>0.4415584</td></tr>\n",
              "<tr><td></td>\n",
              "<td>2018-10-22 20:58:37</td>\n",
              "<td>51 min 42.903 sec</td>\n",
              "<td>26749 obs/sec</td>\n",
              "<td>910.0</td>\n",
              "<td>91</td>\n",
              "<td>275730.0</td>\n",
              "<td>0.1971509</td>\n",
              "<td>0.2394587</td>\n",
              "<td>0.9608694</td>\n",
              "<td>0.0429043</td>\n",
              "<td>0.6457557</td>\n",
              "<td>3.5669843</td>\n",
              "<td>0.5812338</td>\n",
              "<td>0.4805195</td></tr>\n",
              "<tr><td></td>\n",
              "<td>2018-10-22 20:58:42</td>\n",
              "<td>51 min 47.987 sec</td>\n",
              "<td>28358 obs/sec</td>\n",
              "<td>1440.0</td>\n",
              "<td>144</td>\n",
              "<td>436320.0</td>\n",
              "<td>0.1233493</td>\n",
              "<td>0.0477509</td>\n",
              "<td>0.9846823</td>\n",
              "<td>0.0231023</td>\n",
              "<td>0.6860308</td>\n",
              "<td>4.0355730</td>\n",
              "<td>0.5273688</td>\n",
              "<td>0.5064935</td></tr>\n",
              "<tr><td></td>\n",
              "<td>2018-10-22 20:58:47</td>\n",
              "<td>51 min 53.005 sec</td>\n",
              "<td>29560 obs/sec</td>\n",
              "<td>1990.0</td>\n",
              "<td>199</td>\n",
              "<td>602970.0</td>\n",
              "<td>0.1468852</td>\n",
              "<td>0.0726813</td>\n",
              "<td>0.9782793</td>\n",
              "<td>0.0297030</td>\n",
              "<td>0.6701449</td>\n",
              "<td>4.2744237</td>\n",
              "<td>0.5490042</td>\n",
              "<td>0.5064935</td></tr>\n",
              "<tr><td></td>\n",
              "<td>2018-10-22 20:58:52</td>\n",
              "<td>51 min 58.014 sec</td>\n",
              "<td>30537 obs/sec</td>\n",
              "<td>2560.0</td>\n",
              "<td>256</td>\n",
              "<td>775680.0</td>\n",
              "<td>0.1178255</td>\n",
              "<td>0.0402937</td>\n",
              "<td>0.9860235</td>\n",
              "<td>0.0198020</td>\n",
              "<td>0.6695263</td>\n",
              "<td>4.5886882</td>\n",
              "<td>0.5498363</td>\n",
              "<td>0.5194805</td></tr>\n",
              "<tr><td></td>\n",
              "<td>2018-10-22 20:58:55</td>\n",
              "<td>52 min  0.918 sec</td>\n",
              "<td>31049 obs/sec</td>\n",
              "<td>2900.0</td>\n",
              "<td>290</td>\n",
              "<td>878700.0</td>\n",
              "<td>0.1149383</td>\n",
              "<td>0.0564893</td>\n",
              "<td>0.9867001</td>\n",
              "<td>0.0165017</td>\n",
              "<td>0.6611118</td>\n",
              "<td>4.5784379</td>\n",
              "<td>0.5610805</td>\n",
              "<td>0.4675325</td></tr></table></div>"
            ],
            "text/plain": [
              "    timestamp            duration           training_speed    epochs    iterations    samples    training_rmse    training_logloss    training_r2    training_classification_error    validation_rmse    validation_logloss    validation_r2    validation_classification_error\n",
              "--  -------------------  -----------------  ----------------  --------  ------------  ---------  ---------------  ------------------  -------------  -------------------------------  -----------------  --------------------  ---------------  ---------------------------------\n",
              "    2018-10-22 20:58:27  0.000 sec                            0         0             0          nan              nan                 nan            nan                              nan                nan                   nan              nan\n",
              "    2018-10-22 20:58:27  51 min 32.763 sec  16833 obs/sec     10        1             3030       0.519577         0.94559             0.728219       0.356436                         0.592761           1.22282               0.647146         0.493506\n",
              "    2018-10-22 20:58:32  51 min 37.867 sec  24685 obs/sec     430       43            130290     0.303018         0.432694            0.907561       0.108911                         0.613154           3.03213               0.622451         0.441558\n",
              "    2018-10-22 20:58:37  51 min 42.903 sec  26749 obs/sec     910       91            275730     0.197151         0.239459            0.960869       0.0429043                        0.645756           3.56698               0.581234         0.480519\n",
              "    2018-10-22 20:58:42  51 min 47.987 sec  28358 obs/sec     1440      144           436320     0.123349         0.0477509           0.984682       0.0231023                        0.686031           4.03557               0.527369         0.506494\n",
              "    2018-10-22 20:58:47  51 min 53.005 sec  29560 obs/sec     1990      199           602970     0.146885         0.0726813           0.978279       0.029703                         0.670145           4.27442               0.549004         0.506494\n",
              "    2018-10-22 20:58:52  51 min 58.014 sec  30537 obs/sec     2560      256           775680     0.117825         0.0402937           0.986024       0.019802                         0.669526           4.58869               0.549836         0.519481\n",
              "    2018-10-22 20:58:55  52 min  0.918 sec  31049 obs/sec     2900      290           878700     0.114938         0.0564893           0.9867         0.0165017                        0.661112           4.57844               0.56108          0.467532"
            ]
          },
          "metadata": {
            "tags": []
          }
        },
        {
          "output_type": "stream",
          "text": [
            "Variable Importances: \n"
          ],
          "name": "stdout"
        },
        {
          "output_type": "display_data",
          "data": {
            "text/html": [
              "<div style=\"overflow:auto\"><table style=\"width:50%\"><tr><td><b>variable</b></td>\n",
              "<td><b>relative_importance</b></td>\n",
              "<td><b>scaled_importance</b></td>\n",
              "<td><b>percentage</b></td></tr>\n",
              "<tr><td>price_perc-2w</td>\n",
              "<td>1.0</td>\n",
              "<td>1.0</td>\n",
              "<td>0.0834804</td></tr>\n",
              "<tr><td>prec</td>\n",
              "<td>0.8934146</td>\n",
              "<td>0.8934146</td>\n",
              "<td>0.0745826</td></tr>\n",
              "<tr><td>prec-4w_sum</td>\n",
              "<td>0.7625359</td>\n",
              "<td>0.7625359</td>\n",
              "<td>0.0636568</td></tr>\n",
              "<tr><td>freeze_damage</td>\n",
              "<td>0.7529436</td>\n",
              "<td>0.7529436</td>\n",
              "<td>0.0628560</td></tr>\n",
              "<tr><td>racha</td>\n",
              "<td>0.6696827</td>\n",
              "<td>0.6696827</td>\n",
              "<td>0.0559054</td></tr>\n",
              "<tr><td>---</td>\n",
              "<td>---</td>\n",
              "<td>---</td>\n",
              "<td>---</td></tr>\n",
              "<tr><td>week_nr</td>\n",
              "<td>0.4440292</td>\n",
              "<td>0.4440292</td>\n",
              "<td>0.0370677</td></tr>\n",
              "<tr><td>tmin</td>\n",
              "<td>0.4221320</td>\n",
              "<td>0.4221320</td>\n",
              "<td>0.0352397</td></tr>\n",
              "<tr><td>tmax</td>\n",
              "<td>0.4131543</td>\n",
              "<td>0.4131543</td>\n",
              "<td>0.0344903</td></tr>\n",
              "<tr><td>tmed-4w_mean</td>\n",
              "<td>0.3671600</td>\n",
              "<td>0.3671600</td>\n",
              "<td>0.0306507</td></tr>\n",
              "<tr><td>tmed</td>\n",
              "<td>0.3263054</td>\n",
              "<td>0.3263054</td>\n",
              "<td>0.0272401</td></tr></table></div>"
            ],
            "text/plain": [
              "variable       relative_importance    scaled_importance    percentage\n",
              "-------------  ---------------------  -------------------  --------------------\n",
              "price_perc-2w  1.0                    1.0                  0.08348038889318897\n",
              "prec           0.8934146165847778     0.8934146165847778   0.07458259963535656\n",
              "prec-4w_sum    0.7625358700752258     0.7625358700752258   0.06365679097888606\n",
              "freeze_damage  0.7529436349868774     0.7529436349868774   0.06285602746335585\n",
              "racha          0.6696826815605164     0.6696826815605164   0.05590537069170553\n",
              "---            ---                    ---                  ---\n",
              "week_nr        0.44402921199798584    0.44402921199798584  0.037067731297528106\n",
              "tmin           0.42213204503059387    0.42213204503059387  0.035239747283431135\n",
              "tmax           0.4131543040275574     0.4131543040275574   0.034490281973115315\n",
              "tmed-4w_mean   0.36716002225875854    0.36716002225875854  0.03065066144419308\n",
              "tmed           0.3263053894042969     0.3263053894042969   0.027240100805414166"
            ]
          },
          "metadata": {
            "tags": []
          }
        },
        {
          "output_type": "stream",
          "text": [
            "\n",
            "See the whole table with table.as_data_frame()\n",
            "\n",
            "H2O accuracy 0.5118110236220472\n"
          ],
          "name": "stdout"
        }
      ]
    },
    {
      "metadata": {
        "id": "vS33f8NwC1HK",
        "colab_type": "code",
        "colab": {
          "base_uri": "https://localhost:8080/",
          "height": 250
        },
        "outputId": "896aac7f-d7b3-4682-c29d-ba321f6600e2"
      },
      "cell_type": "code",
      "source": [
        "h2o_model.leaderboard"
      ],
      "execution_count": 16,
      "outputs": [
        {
          "output_type": "display_data",
          "data": {
            "text/html": [
              "<table>\n",
              "<thead>\n",
              "<tr><th>model_id                                  </th><th style=\"text-align: right;\">  mean_per_class_error</th><th style=\"text-align: right;\">  logloss</th><th style=\"text-align: right;\">    rmse</th><th style=\"text-align: right;\">     mse</th></tr>\n",
              "</thead>\n",
              "<tbody>\n",
              "<tr><td>GBM_grid_0_AutoML_20181021_095225_model_11</td><td style=\"text-align: right;\">              0.598233</td><td style=\"text-align: right;\"> 0.93755 </td><td style=\"text-align: right;\">0.606634</td><td style=\"text-align: right;\">0.368004</td></tr>\n",
              "<tr><td>GBM_grid_0_AutoML_20181021_095225_model_5 </td><td style=\"text-align: right;\">              0.606843</td><td style=\"text-align: right;\"> 1.0274  </td><td style=\"text-align: right;\">0.641612</td><td style=\"text-align: right;\">0.411666</td></tr>\n",
              "<tr><td>GBM_grid_0_AutoML_20181021_095225_model_6 </td><td style=\"text-align: right;\">              0.623138</td><td style=\"text-align: right;\"> 1.03253 </td><td style=\"text-align: right;\">0.643644</td><td style=\"text-align: right;\">0.414277</td></tr>\n",
              "<tr><td>GBM_grid_0_AutoML_20181021_095225_model_2 </td><td style=\"text-align: right;\">              0.631958</td><td style=\"text-align: right;\"> 0.858713</td><td style=\"text-align: right;\">0.551327</td><td style=\"text-align: right;\">0.303962</td></tr>\n",
              "<tr><td>GBM_grid_0_AutoML_20181021_095225_model_1 </td><td style=\"text-align: right;\">              0.636942</td><td style=\"text-align: right;\"> 0.874619</td><td style=\"text-align: right;\">0.556777</td><td style=\"text-align: right;\">0.31    </td></tr>\n",
              "<tr><td>DeepLearning_0_AutoML_20181021_095225     </td><td style=\"text-align: right;\">              0.639836</td><td style=\"text-align: right;\"> 0.800127</td><td style=\"text-align: right;\">0.527211</td><td style=\"text-align: right;\">0.277951</td></tr>\n",
              "<tr><td>GBM_grid_0_AutoML_20181021_095225_model_10</td><td style=\"text-align: right;\">              0.641717</td><td style=\"text-align: right;\"> 0.786424</td><td style=\"text-align: right;\">0.531643</td><td style=\"text-align: right;\">0.282645</td></tr>\n",
              "<tr><td>GBM_grid_0_AutoML_20181021_095225_model_0 </td><td style=\"text-align: right;\">              0.643164</td><td style=\"text-align: right;\"> 0.945412</td><td style=\"text-align: right;\">0.575628</td><td style=\"text-align: right;\">0.331347</td></tr>\n",
              "<tr><td>GBM_grid_0_AutoML_20181021_095225_model_9 </td><td style=\"text-align: right;\">              0.646477</td><td style=\"text-align: right;\"> 1.03677 </td><td style=\"text-align: right;\">0.645291</td><td style=\"text-align: right;\">0.416401</td></tr>\n",
              "<tr><td>GLM_grid_0_AutoML_20181021_095225_model_0 </td><td style=\"text-align: right;\">              0.647014</td><td style=\"text-align: right;\"> 0.756689</td><td style=\"text-align: right;\">0.515234</td><td style=\"text-align: right;\">0.265466</td></tr>\n",
              "</tbody>\n",
              "</table>"
            ]
          },
          "metadata": {
            "tags": []
          }
        },
        {
          "output_type": "execute_result",
          "data": {
            "text/plain": [
              ""
            ]
          },
          "metadata": {
            "tags": []
          },
          "execution_count": 16
        }
      ]
    }
  ]
}